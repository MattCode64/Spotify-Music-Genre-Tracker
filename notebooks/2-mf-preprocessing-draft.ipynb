{
 "cells": [
  {
   "metadata": {},
   "cell_type": "markdown",
   "source": [
    "## Objectives :\n",
    "\n",
    "- Only important features and target in the dataset\n",
    "- Label encoding for categorical feature (only `track_genre`, and `explicit`)\n",
    "- Normalization for numerical features"
   ],
   "id": "bc18a80aa6f818de"
  },
  {
   "metadata": {
    "ExecuteTime": {
     "end_time": "2024-12-06T16:13:27.221059Z",
     "start_time": "2024-12-06T16:13:26.934760Z"
    }
   },
   "cell_type": "code",
   "source": [
    "import pandas as pd\n",
    "from pycparser.c_ast import Label\n",
    "\n",
    "dataset_path = \"../data/raw/dataset.csv\"\n",
    "# Load data\n",
    "df = pd.read_csv(dataset_path, low_memory=False)"
   ],
   "id": "90d53eac111e1d0",
   "outputs": [],
   "execution_count": 2
  },
  {
   "metadata": {
    "ExecuteTime": {
     "end_time": "2024-12-06T16:13:37.991569Z",
     "start_time": "2024-12-06T16:13:37.987292Z"
    }
   },
   "cell_type": "code",
   "source": [
    "# Columns\n",
    "df.columns"
   ],
   "id": "6b4495ae3c54b4bb",
   "outputs": [
    {
     "data": {
      "text/plain": [
       "Index(['Unnamed: 0', 'track_id', 'artists', 'album_name', 'track_name',\n",
       "       'popularity', 'duration_ms', 'explicit', 'danceability', 'energy',\n",
       "       'key', 'loudness', 'mode', 'speechiness', 'acousticness',\n",
       "       'instrumentalness', 'liveness', 'valence', 'tempo', 'time_signature',\n",
       "       'track_genre'],\n",
       "      dtype='object')"
      ]
     },
     "execution_count": 4,
     "metadata": {},
     "output_type": "execute_result"
    }
   ],
   "execution_count": 4
  },
  {
   "metadata": {
    "ExecuteTime": {
     "end_time": "2024-12-06T16:15:54.421507Z",
     "start_time": "2024-12-06T16:15:54.380649Z"
    }
   },
   "cell_type": "code",
   "source": [
    "from sklearn.preprocessing import LabelEncoder\n",
    "\n",
    "label_encoder = LabelEncoder()\n",
    "\n",
    "df['track_genre_encoded'] = label_encoder.fit_transform(df['track_genre'])"
   ],
   "id": "b88291da06fa0152",
   "outputs": [],
   "execution_count": 5
  },
  {
   "metadata": {
    "ExecuteTime": {
     "end_time": "2024-12-06T16:16:06.564149Z",
     "start_time": "2024-12-06T16:16:06.558499Z"
    }
   },
   "cell_type": "code",
   "source": "df['track_genre_encoded'].value_counts()",
   "id": "7644183acdd0e431",
   "outputs": [
    {
     "data": {
      "text/plain": [
       "track_genre_encoded\n",
       "0      1000\n",
       "1      1000\n",
       "2      1000\n",
       "3      1000\n",
       "4      1000\n",
       "       ... \n",
       "109    1000\n",
       "110    1000\n",
       "111    1000\n",
       "112    1000\n",
       "113    1000\n",
       "Name: count, Length: 114, dtype: int64"
      ]
     },
     "execution_count": 6,
     "metadata": {},
     "output_type": "execute_result"
    }
   ],
   "execution_count": 6
  },
  {
   "metadata": {},
   "cell_type": "code",
   "source": "df['explicit'] = df['explicit'].replace({True: 1, False: 0})",
   "id": "b04be03d8758bd01",
   "outputs": [],
   "execution_count": null
  },
  {
   "metadata": {
    "ExecuteTime": {
     "end_time": "2024-12-06T16:18:46.093800Z",
     "start_time": "2024-12-06T16:18:46.059858Z"
    }
   },
   "cell_type": "code",
   "source": [
    "# Drop missing values\n",
    "df.dropna(inplace=True)"
   ],
   "id": "cbe802c96a419914",
   "outputs": [],
   "execution_count": 8
  },
  {
   "metadata": {
    "ExecuteTime": {
     "end_time": "2024-12-06T16:18:58.187536Z",
     "start_time": "2024-12-06T16:18:58.184132Z"
    }
   },
   "cell_type": "code",
   "source": "df.shape",
   "id": "d7e8b8a153449d6c",
   "outputs": [
    {
     "data": {
      "text/plain": [
       "(113999, 22)"
      ]
     },
     "execution_count": 9,
     "metadata": {},
     "output_type": "execute_result"
    }
   ],
   "execution_count": 9
  },
  {
   "metadata": {
    "ExecuteTime": {
     "end_time": "2024-12-06T16:20:48.537103Z",
     "start_time": "2024-12-06T16:20:48.535040Z"
    }
   },
   "cell_type": "code",
   "source": [
    "# Drop columns : 'Unnamed: 0', 'track_id', 'artists', 'album_name', 'track_name'\n",
    "\n",
    "columns_to_drop = ['Unnamed: 0', 'track_id', 'artists', 'album_name', 'track_name']"
   ],
   "id": "478b7396ef690424",
   "outputs": [],
   "execution_count": 10
  },
  {
   "metadata": {
    "ExecuteTime": {
     "end_time": "2024-12-06T16:21:21.383920Z",
     "start_time": "2024-12-06T16:21:21.372477Z"
    }
   },
   "cell_type": "code",
   "source": "df.drop(columns=columns_to_drop, inplace=True)",
   "id": "f8ca67ff8c6f09a5",
   "outputs": [],
   "execution_count": 12
  },
  {
   "metadata": {
    "ExecuteTime": {
     "end_time": "2024-12-06T16:22:15.431532Z",
     "start_time": "2024-12-06T16:22:15.426526Z"
    }
   },
   "cell_type": "code",
   "source": "df.drop(columns=['track_genre'], inplace=True)",
   "id": "5ba2304086d7d5dc",
   "outputs": [],
   "execution_count": 15
  },
  {
   "metadata": {
    "ExecuteTime": {
     "end_time": "2024-12-06T16:22:21.871421Z",
     "start_time": "2024-12-06T16:22:21.862938Z"
    }
   },
   "cell_type": "code",
   "source": "df.head()",
   "id": "dbd9dc4dd7a7938c",
   "outputs": [
    {
     "data": {
      "text/plain": [
       "   popularity  duration_ms  explicit  danceability  energy  key  loudness  \\\n",
       "0          73       230666         0         0.676  0.4610    1    -6.746   \n",
       "1          55       149610         0         0.420  0.1660    1   -17.235   \n",
       "2          57       210826         0         0.438  0.3590    0    -9.734   \n",
       "3          71       201933         0         0.266  0.0596    0   -18.515   \n",
       "4          82       198853         0         0.618  0.4430    2    -9.681   \n",
       "\n",
       "   mode  speechiness  acousticness  instrumentalness  liveness  valence  \\\n",
       "0     0       0.1430        0.0322          0.000001    0.3580    0.715   \n",
       "1     1       0.0763        0.9240          0.000006    0.1010    0.267   \n",
       "2     1       0.0557        0.2100          0.000000    0.1170    0.120   \n",
       "3     1       0.0363        0.9050          0.000071    0.1320    0.143   \n",
       "4     1       0.0526        0.4690          0.000000    0.0829    0.167   \n",
       "\n",
       "     tempo  time_signature  track_genre_encoded  \n",
       "0   87.917               4                    0  \n",
       "1   77.489               4                    0  \n",
       "2   76.332               4                    0  \n",
       "3  181.740               3                    0  \n",
       "4  119.949               4                    0  "
      ],
      "text/html": [
       "<div>\n",
       "<style scoped>\n",
       "    .dataframe tbody tr th:only-of-type {\n",
       "        vertical-align: middle;\n",
       "    }\n",
       "\n",
       "    .dataframe tbody tr th {\n",
       "        vertical-align: top;\n",
       "    }\n",
       "\n",
       "    .dataframe thead th {\n",
       "        text-align: right;\n",
       "    }\n",
       "</style>\n",
       "<table border=\"1\" class=\"dataframe\">\n",
       "  <thead>\n",
       "    <tr style=\"text-align: right;\">\n",
       "      <th></th>\n",
       "      <th>popularity</th>\n",
       "      <th>duration_ms</th>\n",
       "      <th>explicit</th>\n",
       "      <th>danceability</th>\n",
       "      <th>energy</th>\n",
       "      <th>key</th>\n",
       "      <th>loudness</th>\n",
       "      <th>mode</th>\n",
       "      <th>speechiness</th>\n",
       "      <th>acousticness</th>\n",
       "      <th>instrumentalness</th>\n",
       "      <th>liveness</th>\n",
       "      <th>valence</th>\n",
       "      <th>tempo</th>\n",
       "      <th>time_signature</th>\n",
       "      <th>track_genre_encoded</th>\n",
       "    </tr>\n",
       "  </thead>\n",
       "  <tbody>\n",
       "    <tr>\n",
       "      <th>0</th>\n",
       "      <td>73</td>\n",
       "      <td>230666</td>\n",
       "      <td>0</td>\n",
       "      <td>0.676</td>\n",
       "      <td>0.4610</td>\n",
       "      <td>1</td>\n",
       "      <td>-6.746</td>\n",
       "      <td>0</td>\n",
       "      <td>0.1430</td>\n",
       "      <td>0.0322</td>\n",
       "      <td>0.000001</td>\n",
       "      <td>0.3580</td>\n",
       "      <td>0.715</td>\n",
       "      <td>87.917</td>\n",
       "      <td>4</td>\n",
       "      <td>0</td>\n",
       "    </tr>\n",
       "    <tr>\n",
       "      <th>1</th>\n",
       "      <td>55</td>\n",
       "      <td>149610</td>\n",
       "      <td>0</td>\n",
       "      <td>0.420</td>\n",
       "      <td>0.1660</td>\n",
       "      <td>1</td>\n",
       "      <td>-17.235</td>\n",
       "      <td>1</td>\n",
       "      <td>0.0763</td>\n",
       "      <td>0.9240</td>\n",
       "      <td>0.000006</td>\n",
       "      <td>0.1010</td>\n",
       "      <td>0.267</td>\n",
       "      <td>77.489</td>\n",
       "      <td>4</td>\n",
       "      <td>0</td>\n",
       "    </tr>\n",
       "    <tr>\n",
       "      <th>2</th>\n",
       "      <td>57</td>\n",
       "      <td>210826</td>\n",
       "      <td>0</td>\n",
       "      <td>0.438</td>\n",
       "      <td>0.3590</td>\n",
       "      <td>0</td>\n",
       "      <td>-9.734</td>\n",
       "      <td>1</td>\n",
       "      <td>0.0557</td>\n",
       "      <td>0.2100</td>\n",
       "      <td>0.000000</td>\n",
       "      <td>0.1170</td>\n",
       "      <td>0.120</td>\n",
       "      <td>76.332</td>\n",
       "      <td>4</td>\n",
       "      <td>0</td>\n",
       "    </tr>\n",
       "    <tr>\n",
       "      <th>3</th>\n",
       "      <td>71</td>\n",
       "      <td>201933</td>\n",
       "      <td>0</td>\n",
       "      <td>0.266</td>\n",
       "      <td>0.0596</td>\n",
       "      <td>0</td>\n",
       "      <td>-18.515</td>\n",
       "      <td>1</td>\n",
       "      <td>0.0363</td>\n",
       "      <td>0.9050</td>\n",
       "      <td>0.000071</td>\n",
       "      <td>0.1320</td>\n",
       "      <td>0.143</td>\n",
       "      <td>181.740</td>\n",
       "      <td>3</td>\n",
       "      <td>0</td>\n",
       "    </tr>\n",
       "    <tr>\n",
       "      <th>4</th>\n",
       "      <td>82</td>\n",
       "      <td>198853</td>\n",
       "      <td>0</td>\n",
       "      <td>0.618</td>\n",
       "      <td>0.4430</td>\n",
       "      <td>2</td>\n",
       "      <td>-9.681</td>\n",
       "      <td>1</td>\n",
       "      <td>0.0526</td>\n",
       "      <td>0.4690</td>\n",
       "      <td>0.000000</td>\n",
       "      <td>0.0829</td>\n",
       "      <td>0.167</td>\n",
       "      <td>119.949</td>\n",
       "      <td>4</td>\n",
       "      <td>0</td>\n",
       "    </tr>\n",
       "  </tbody>\n",
       "</table>\n",
       "</div>"
      ]
     },
     "execution_count": 17,
     "metadata": {},
     "output_type": "execute_result"
    }
   ],
   "execution_count": 17
  },
  {
   "metadata": {
    "ExecuteTime": {
     "end_time": "2024-12-06T16:25:18.697772Z",
     "start_time": "2024-12-06T16:25:18.065877Z"
    }
   },
   "cell_type": "code",
   "source": [
    "# Save the preprocessed dataset\n",
    "preprocessed_dataset_path = \"../data/processed/preprocessed_dataset.csv\"\n",
    "df.to_csv(preprocessed_dataset_path, index=False)"
   ],
   "id": "fac54e36188b38e3",
   "outputs": [],
   "execution_count": 18
  },
  {
   "metadata": {},
   "cell_type": "code",
   "outputs": [],
   "execution_count": null,
   "source": "",
   "id": "6b7ef47889bc4dbc"
  },
  {
   "metadata": {},
   "cell_type": "code",
   "outputs": [],
   "execution_count": null,
   "source": "",
   "id": "aa9757d82312e49"
  },
  {
   "metadata": {},
   "cell_type": "code",
   "outputs": [],
   "execution_count": null,
   "source": "",
   "id": "820a248354d094ed"
  },
  {
   "metadata": {},
   "cell_type": "code",
   "outputs": [],
   "execution_count": null,
   "source": "",
   "id": "83bab1b770dabad3"
  }
 ],
 "metadata": {
  "kernelspec": {
   "display_name": "Python 3",
   "language": "python",
   "name": "python3"
  },
  "language_info": {
   "codemirror_mode": {
    "name": "ipython",
    "version": 2
   },
   "file_extension": ".py",
   "mimetype": "text/x-python",
   "name": "python",
   "nbconvert_exporter": "python",
   "pygments_lexer": "ipython2",
   "version": "2.7.6"
  }
 },
 "nbformat": 4,
 "nbformat_minor": 5
}

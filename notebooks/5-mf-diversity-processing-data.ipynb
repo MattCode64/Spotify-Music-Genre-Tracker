{
 "cells": [
  {
   "metadata": {},
   "cell_type": "markdown",
   "source": "# Importation of libraries",
   "id": "237fd062a6901bf"
  },
  {
   "cell_type": "code",
   "id": "initial_id",
   "metadata": {
    "collapsed": true,
    "ExecuteTime": {
     "end_time": "2024-12-12T21:27:29.189547Z",
     "start_time": "2024-12-12T21:27:29.114839Z"
    }
   },
   "source": [
    "import pandas as pd\n",
    "import numpy as np\n",
    "import matplotlib.pyplot as plt\n",
    "import seaborn as sns\n",
    "import os\n",
    "import plotly.express as px"
   ],
   "outputs": [],
   "execution_count": 1
  },
  {
   "metadata": {
    "ExecuteTime": {
     "end_time": "2024-12-12T21:27:30.053715Z",
     "start_time": "2024-12-12T21:27:30.051494Z"
    }
   },
   "cell_type": "code",
   "source": "dataset_path = \"/home/matthieu/UbuntuData/PycharmProjects/MelodAI/data/raw/dataset.csv\"",
   "id": "c530d02eb18678bb",
   "outputs": [],
   "execution_count": 2
  },
  {
   "metadata": {
    "ExecuteTime": {
     "end_time": "2024-12-12T21:27:31.748536Z",
     "start_time": "2024-12-12T21:27:31.439300Z"
    }
   },
   "cell_type": "code",
   "source": [
    "# Load the dataset\n",
    "dataframe = pd.read_csv(dataset_path, low_memory=False)"
   ],
   "id": "a1e3969df0b8a164",
   "outputs": [],
   "execution_count": 3
  },
  {
   "metadata": {
    "ExecuteTime": {
     "end_time": "2024-12-12T21:27:51.388833Z",
     "start_time": "2024-12-12T21:27:51.322834Z"
    }
   },
   "cell_type": "code",
   "source": "dataframe.describe()",
   "id": "7093c56f891e5d96",
   "outputs": [
    {
     "data": {
      "text/plain": [
       "          Unnamed: 0     popularity   duration_ms   danceability  \\\n",
       "count  114000.000000  114000.000000  1.140000e+05  114000.000000   \n",
       "mean    56999.500000      33.238535  2.280292e+05       0.566800   \n",
       "std     32909.109681      22.305078  1.072977e+05       0.173542   \n",
       "min         0.000000       0.000000  0.000000e+00       0.000000   \n",
       "25%     28499.750000      17.000000  1.740660e+05       0.456000   \n",
       "50%     56999.500000      35.000000  2.129060e+05       0.580000   \n",
       "75%     85499.250000      50.000000  2.615060e+05       0.695000   \n",
       "max    113999.000000     100.000000  5.237295e+06       0.985000   \n",
       "\n",
       "              energy            key       loudness           mode  \\\n",
       "count  114000.000000  114000.000000  114000.000000  114000.000000   \n",
       "mean        0.641383       5.309140      -8.258960       0.637553   \n",
       "std         0.251529       3.559987       5.029337       0.480709   \n",
       "min         0.000000       0.000000     -49.531000       0.000000   \n",
       "25%         0.472000       2.000000     -10.013000       0.000000   \n",
       "50%         0.685000       5.000000      -7.004000       1.000000   \n",
       "75%         0.854000       8.000000      -5.003000       1.000000   \n",
       "max         1.000000      11.000000       4.532000       1.000000   \n",
       "\n",
       "         speechiness   acousticness  instrumentalness       liveness  \\\n",
       "count  114000.000000  114000.000000     114000.000000  114000.000000   \n",
       "mean        0.084652       0.314910          0.156050       0.213553   \n",
       "std         0.105732       0.332523          0.309555       0.190378   \n",
       "min         0.000000       0.000000          0.000000       0.000000   \n",
       "25%         0.035900       0.016900          0.000000       0.098000   \n",
       "50%         0.048900       0.169000          0.000042       0.132000   \n",
       "75%         0.084500       0.598000          0.049000       0.273000   \n",
       "max         0.965000       0.996000          1.000000       1.000000   \n",
       "\n",
       "             valence          tempo  time_signature  \n",
       "count  114000.000000  114000.000000   114000.000000  \n",
       "mean        0.474068     122.147837        3.904035  \n",
       "std         0.259261      29.978197        0.432621  \n",
       "min         0.000000       0.000000        0.000000  \n",
       "25%         0.260000      99.218750        4.000000  \n",
       "50%         0.464000     122.017000        4.000000  \n",
       "75%         0.683000     140.071000        4.000000  \n",
       "max         0.995000     243.372000        5.000000  "
      ],
      "text/html": [
       "<div>\n",
       "<style scoped>\n",
       "    .dataframe tbody tr th:only-of-type {\n",
       "        vertical-align: middle;\n",
       "    }\n",
       "\n",
       "    .dataframe tbody tr th {\n",
       "        vertical-align: top;\n",
       "    }\n",
       "\n",
       "    .dataframe thead th {\n",
       "        text-align: right;\n",
       "    }\n",
       "</style>\n",
       "<table border=\"1\" class=\"dataframe\">\n",
       "  <thead>\n",
       "    <tr style=\"text-align: right;\">\n",
       "      <th></th>\n",
       "      <th>Unnamed: 0</th>\n",
       "      <th>popularity</th>\n",
       "      <th>duration_ms</th>\n",
       "      <th>danceability</th>\n",
       "      <th>energy</th>\n",
       "      <th>key</th>\n",
       "      <th>loudness</th>\n",
       "      <th>mode</th>\n",
       "      <th>speechiness</th>\n",
       "      <th>acousticness</th>\n",
       "      <th>instrumentalness</th>\n",
       "      <th>liveness</th>\n",
       "      <th>valence</th>\n",
       "      <th>tempo</th>\n",
       "      <th>time_signature</th>\n",
       "    </tr>\n",
       "  </thead>\n",
       "  <tbody>\n",
       "    <tr>\n",
       "      <th>count</th>\n",
       "      <td>114000.000000</td>\n",
       "      <td>114000.000000</td>\n",
       "      <td>1.140000e+05</td>\n",
       "      <td>114000.000000</td>\n",
       "      <td>114000.000000</td>\n",
       "      <td>114000.000000</td>\n",
       "      <td>114000.000000</td>\n",
       "      <td>114000.000000</td>\n",
       "      <td>114000.000000</td>\n",
       "      <td>114000.000000</td>\n",
       "      <td>114000.000000</td>\n",
       "      <td>114000.000000</td>\n",
       "      <td>114000.000000</td>\n",
       "      <td>114000.000000</td>\n",
       "      <td>114000.000000</td>\n",
       "    </tr>\n",
       "    <tr>\n",
       "      <th>mean</th>\n",
       "      <td>56999.500000</td>\n",
       "      <td>33.238535</td>\n",
       "      <td>2.280292e+05</td>\n",
       "      <td>0.566800</td>\n",
       "      <td>0.641383</td>\n",
       "      <td>5.309140</td>\n",
       "      <td>-8.258960</td>\n",
       "      <td>0.637553</td>\n",
       "      <td>0.084652</td>\n",
       "      <td>0.314910</td>\n",
       "      <td>0.156050</td>\n",
       "      <td>0.213553</td>\n",
       "      <td>0.474068</td>\n",
       "      <td>122.147837</td>\n",
       "      <td>3.904035</td>\n",
       "    </tr>\n",
       "    <tr>\n",
       "      <th>std</th>\n",
       "      <td>32909.109681</td>\n",
       "      <td>22.305078</td>\n",
       "      <td>1.072977e+05</td>\n",
       "      <td>0.173542</td>\n",
       "      <td>0.251529</td>\n",
       "      <td>3.559987</td>\n",
       "      <td>5.029337</td>\n",
       "      <td>0.480709</td>\n",
       "      <td>0.105732</td>\n",
       "      <td>0.332523</td>\n",
       "      <td>0.309555</td>\n",
       "      <td>0.190378</td>\n",
       "      <td>0.259261</td>\n",
       "      <td>29.978197</td>\n",
       "      <td>0.432621</td>\n",
       "    </tr>\n",
       "    <tr>\n",
       "      <th>min</th>\n",
       "      <td>0.000000</td>\n",
       "      <td>0.000000</td>\n",
       "      <td>0.000000e+00</td>\n",
       "      <td>0.000000</td>\n",
       "      <td>0.000000</td>\n",
       "      <td>0.000000</td>\n",
       "      <td>-49.531000</td>\n",
       "      <td>0.000000</td>\n",
       "      <td>0.000000</td>\n",
       "      <td>0.000000</td>\n",
       "      <td>0.000000</td>\n",
       "      <td>0.000000</td>\n",
       "      <td>0.000000</td>\n",
       "      <td>0.000000</td>\n",
       "      <td>0.000000</td>\n",
       "    </tr>\n",
       "    <tr>\n",
       "      <th>25%</th>\n",
       "      <td>28499.750000</td>\n",
       "      <td>17.000000</td>\n",
       "      <td>1.740660e+05</td>\n",
       "      <td>0.456000</td>\n",
       "      <td>0.472000</td>\n",
       "      <td>2.000000</td>\n",
       "      <td>-10.013000</td>\n",
       "      <td>0.000000</td>\n",
       "      <td>0.035900</td>\n",
       "      <td>0.016900</td>\n",
       "      <td>0.000000</td>\n",
       "      <td>0.098000</td>\n",
       "      <td>0.260000</td>\n",
       "      <td>99.218750</td>\n",
       "      <td>4.000000</td>\n",
       "    </tr>\n",
       "    <tr>\n",
       "      <th>50%</th>\n",
       "      <td>56999.500000</td>\n",
       "      <td>35.000000</td>\n",
       "      <td>2.129060e+05</td>\n",
       "      <td>0.580000</td>\n",
       "      <td>0.685000</td>\n",
       "      <td>5.000000</td>\n",
       "      <td>-7.004000</td>\n",
       "      <td>1.000000</td>\n",
       "      <td>0.048900</td>\n",
       "      <td>0.169000</td>\n",
       "      <td>0.000042</td>\n",
       "      <td>0.132000</td>\n",
       "      <td>0.464000</td>\n",
       "      <td>122.017000</td>\n",
       "      <td>4.000000</td>\n",
       "    </tr>\n",
       "    <tr>\n",
       "      <th>75%</th>\n",
       "      <td>85499.250000</td>\n",
       "      <td>50.000000</td>\n",
       "      <td>2.615060e+05</td>\n",
       "      <td>0.695000</td>\n",
       "      <td>0.854000</td>\n",
       "      <td>8.000000</td>\n",
       "      <td>-5.003000</td>\n",
       "      <td>1.000000</td>\n",
       "      <td>0.084500</td>\n",
       "      <td>0.598000</td>\n",
       "      <td>0.049000</td>\n",
       "      <td>0.273000</td>\n",
       "      <td>0.683000</td>\n",
       "      <td>140.071000</td>\n",
       "      <td>4.000000</td>\n",
       "    </tr>\n",
       "    <tr>\n",
       "      <th>max</th>\n",
       "      <td>113999.000000</td>\n",
       "      <td>100.000000</td>\n",
       "      <td>5.237295e+06</td>\n",
       "      <td>0.985000</td>\n",
       "      <td>1.000000</td>\n",
       "      <td>11.000000</td>\n",
       "      <td>4.532000</td>\n",
       "      <td>1.000000</td>\n",
       "      <td>0.965000</td>\n",
       "      <td>0.996000</td>\n",
       "      <td>1.000000</td>\n",
       "      <td>1.000000</td>\n",
       "      <td>0.995000</td>\n",
       "      <td>243.372000</td>\n",
       "      <td>5.000000</td>\n",
       "    </tr>\n",
       "  </tbody>\n",
       "</table>\n",
       "</div>"
      ]
     },
     "execution_count": 4,
     "metadata": {},
     "output_type": "execute_result"
    }
   ],
   "execution_count": 4
  },
  {
   "metadata": {
    "ExecuteTime": {
     "end_time": "2024-12-12T21:27:53.006625Z",
     "start_time": "2024-12-12T21:27:52.982172Z"
    }
   },
   "cell_type": "code",
   "source": [
    "# Remove null values\n",
    "df = dataframe.dropna()"
   ],
   "id": "ffbc8278ae8bee70",
   "outputs": [],
   "execution_count": 5
  },
  {
   "metadata": {
    "ExecuteTime": {
     "end_time": "2024-12-12T21:28:00.185899Z",
     "start_time": "2024-12-12T21:28:00.175425Z"
    }
   },
   "cell_type": "code",
   "source": [
    "# head\n",
    "df.head()"
   ],
   "id": "34ced49807892cbf",
   "outputs": [
    {
     "data": {
      "text/plain": [
       "   Unnamed: 0                track_id                 artists  \\\n",
       "0           0  5SuOikwiRyPMVoIQDJUgSV             Gen Hoshino   \n",
       "1           1  4qPNDBW1i3p13qLCt0Ki3A            Ben Woodward   \n",
       "2           2  1iJBSr7s7jYXzM8EGcbK5b  Ingrid Michaelson;ZAYN   \n",
       "3           3  6lfxq3CG4xtTiEg7opyCyx            Kina Grannis   \n",
       "4           4  5vjLSffimiIP26QG5WcN2K        Chord Overstreet   \n",
       "\n",
       "                                          album_name  \\\n",
       "0                                             Comedy   \n",
       "1                                   Ghost (Acoustic)   \n",
       "2                                     To Begin Again   \n",
       "3  Crazy Rich Asians (Original Motion Picture Sou...   \n",
       "4                                            Hold On   \n",
       "\n",
       "                   track_name  popularity  duration_ms  explicit  \\\n",
       "0                      Comedy          73       230666     False   \n",
       "1            Ghost - Acoustic          55       149610     False   \n",
       "2              To Begin Again          57       210826     False   \n",
       "3  Can't Help Falling In Love          71       201933     False   \n",
       "4                     Hold On          82       198853     False   \n",
       "\n",
       "   danceability  energy  ...  loudness  mode  speechiness  acousticness  \\\n",
       "0         0.676  0.4610  ...    -6.746     0       0.1430        0.0322   \n",
       "1         0.420  0.1660  ...   -17.235     1       0.0763        0.9240   \n",
       "2         0.438  0.3590  ...    -9.734     1       0.0557        0.2100   \n",
       "3         0.266  0.0596  ...   -18.515     1       0.0363        0.9050   \n",
       "4         0.618  0.4430  ...    -9.681     1       0.0526        0.4690   \n",
       "\n",
       "   instrumentalness  liveness  valence    tempo  time_signature  track_genre  \n",
       "0          0.000001    0.3580    0.715   87.917               4     acoustic  \n",
       "1          0.000006    0.1010    0.267   77.489               4     acoustic  \n",
       "2          0.000000    0.1170    0.120   76.332               4     acoustic  \n",
       "3          0.000071    0.1320    0.143  181.740               3     acoustic  \n",
       "4          0.000000    0.0829    0.167  119.949               4     acoustic  \n",
       "\n",
       "[5 rows x 21 columns]"
      ],
      "text/html": [
       "<div>\n",
       "<style scoped>\n",
       "    .dataframe tbody tr th:only-of-type {\n",
       "        vertical-align: middle;\n",
       "    }\n",
       "\n",
       "    .dataframe tbody tr th {\n",
       "        vertical-align: top;\n",
       "    }\n",
       "\n",
       "    .dataframe thead th {\n",
       "        text-align: right;\n",
       "    }\n",
       "</style>\n",
       "<table border=\"1\" class=\"dataframe\">\n",
       "  <thead>\n",
       "    <tr style=\"text-align: right;\">\n",
       "      <th></th>\n",
       "      <th>Unnamed: 0</th>\n",
       "      <th>track_id</th>\n",
       "      <th>artists</th>\n",
       "      <th>album_name</th>\n",
       "      <th>track_name</th>\n",
       "      <th>popularity</th>\n",
       "      <th>duration_ms</th>\n",
       "      <th>explicit</th>\n",
       "      <th>danceability</th>\n",
       "      <th>energy</th>\n",
       "      <th>...</th>\n",
       "      <th>loudness</th>\n",
       "      <th>mode</th>\n",
       "      <th>speechiness</th>\n",
       "      <th>acousticness</th>\n",
       "      <th>instrumentalness</th>\n",
       "      <th>liveness</th>\n",
       "      <th>valence</th>\n",
       "      <th>tempo</th>\n",
       "      <th>time_signature</th>\n",
       "      <th>track_genre</th>\n",
       "    </tr>\n",
       "  </thead>\n",
       "  <tbody>\n",
       "    <tr>\n",
       "      <th>0</th>\n",
       "      <td>0</td>\n",
       "      <td>5SuOikwiRyPMVoIQDJUgSV</td>\n",
       "      <td>Gen Hoshino</td>\n",
       "      <td>Comedy</td>\n",
       "      <td>Comedy</td>\n",
       "      <td>73</td>\n",
       "      <td>230666</td>\n",
       "      <td>False</td>\n",
       "      <td>0.676</td>\n",
       "      <td>0.4610</td>\n",
       "      <td>...</td>\n",
       "      <td>-6.746</td>\n",
       "      <td>0</td>\n",
       "      <td>0.1430</td>\n",
       "      <td>0.0322</td>\n",
       "      <td>0.000001</td>\n",
       "      <td>0.3580</td>\n",
       "      <td>0.715</td>\n",
       "      <td>87.917</td>\n",
       "      <td>4</td>\n",
       "      <td>acoustic</td>\n",
       "    </tr>\n",
       "    <tr>\n",
       "      <th>1</th>\n",
       "      <td>1</td>\n",
       "      <td>4qPNDBW1i3p13qLCt0Ki3A</td>\n",
       "      <td>Ben Woodward</td>\n",
       "      <td>Ghost (Acoustic)</td>\n",
       "      <td>Ghost - Acoustic</td>\n",
       "      <td>55</td>\n",
       "      <td>149610</td>\n",
       "      <td>False</td>\n",
       "      <td>0.420</td>\n",
       "      <td>0.1660</td>\n",
       "      <td>...</td>\n",
       "      <td>-17.235</td>\n",
       "      <td>1</td>\n",
       "      <td>0.0763</td>\n",
       "      <td>0.9240</td>\n",
       "      <td>0.000006</td>\n",
       "      <td>0.1010</td>\n",
       "      <td>0.267</td>\n",
       "      <td>77.489</td>\n",
       "      <td>4</td>\n",
       "      <td>acoustic</td>\n",
       "    </tr>\n",
       "    <tr>\n",
       "      <th>2</th>\n",
       "      <td>2</td>\n",
       "      <td>1iJBSr7s7jYXzM8EGcbK5b</td>\n",
       "      <td>Ingrid Michaelson;ZAYN</td>\n",
       "      <td>To Begin Again</td>\n",
       "      <td>To Begin Again</td>\n",
       "      <td>57</td>\n",
       "      <td>210826</td>\n",
       "      <td>False</td>\n",
       "      <td>0.438</td>\n",
       "      <td>0.3590</td>\n",
       "      <td>...</td>\n",
       "      <td>-9.734</td>\n",
       "      <td>1</td>\n",
       "      <td>0.0557</td>\n",
       "      <td>0.2100</td>\n",
       "      <td>0.000000</td>\n",
       "      <td>0.1170</td>\n",
       "      <td>0.120</td>\n",
       "      <td>76.332</td>\n",
       "      <td>4</td>\n",
       "      <td>acoustic</td>\n",
       "    </tr>\n",
       "    <tr>\n",
       "      <th>3</th>\n",
       "      <td>3</td>\n",
       "      <td>6lfxq3CG4xtTiEg7opyCyx</td>\n",
       "      <td>Kina Grannis</td>\n",
       "      <td>Crazy Rich Asians (Original Motion Picture Sou...</td>\n",
       "      <td>Can't Help Falling In Love</td>\n",
       "      <td>71</td>\n",
       "      <td>201933</td>\n",
       "      <td>False</td>\n",
       "      <td>0.266</td>\n",
       "      <td>0.0596</td>\n",
       "      <td>...</td>\n",
       "      <td>-18.515</td>\n",
       "      <td>1</td>\n",
       "      <td>0.0363</td>\n",
       "      <td>0.9050</td>\n",
       "      <td>0.000071</td>\n",
       "      <td>0.1320</td>\n",
       "      <td>0.143</td>\n",
       "      <td>181.740</td>\n",
       "      <td>3</td>\n",
       "      <td>acoustic</td>\n",
       "    </tr>\n",
       "    <tr>\n",
       "      <th>4</th>\n",
       "      <td>4</td>\n",
       "      <td>5vjLSffimiIP26QG5WcN2K</td>\n",
       "      <td>Chord Overstreet</td>\n",
       "      <td>Hold On</td>\n",
       "      <td>Hold On</td>\n",
       "      <td>82</td>\n",
       "      <td>198853</td>\n",
       "      <td>False</td>\n",
       "      <td>0.618</td>\n",
       "      <td>0.4430</td>\n",
       "      <td>...</td>\n",
       "      <td>-9.681</td>\n",
       "      <td>1</td>\n",
       "      <td>0.0526</td>\n",
       "      <td>0.4690</td>\n",
       "      <td>0.000000</td>\n",
       "      <td>0.0829</td>\n",
       "      <td>0.167</td>\n",
       "      <td>119.949</td>\n",
       "      <td>4</td>\n",
       "      <td>acoustic</td>\n",
       "    </tr>\n",
       "  </tbody>\n",
       "</table>\n",
       "<p>5 rows × 21 columns</p>\n",
       "</div>"
      ]
     },
     "execution_count": 6,
     "metadata": {},
     "output_type": "execute_result"
    }
   ],
   "execution_count": 6
  },
  {
   "metadata": {
    "ExecuteTime": {
     "end_time": "2024-12-12T21:28:07.953508Z",
     "start_time": "2024-12-12T21:28:07.949496Z"
    }
   },
   "cell_type": "code",
   "source": [
    "# Column 'explicit' is a boolean, we convert it to int (0 or 1)\n",
    "df.loc[:, 'explicit'] = df['explicit'].astype(int)"
   ],
   "id": "17c9874ef3d93144",
   "outputs": [
    {
     "name": "stderr",
     "output_type": "stream",
     "text": [
      "/tmp/ipykernel_6499/4286484380.py:2: FutureWarning: Setting an item of incompatible dtype is deprecated and will raise in a future error of pandas. Value '[0 0 0 ... 0 0 0]' has dtype incompatible with bool, please explicitly cast to a compatible dtype first.\n",
      "  df.loc[:, 'explicit'] = df['explicit'].astype(int)\n"
     ]
    }
   ],
   "execution_count": 8
  },
  {
   "metadata": {
    "ExecuteTime": {
     "end_time": "2024-12-12T21:28:18.448911Z",
     "start_time": "2024-12-12T21:28:18.377602Z"
    }
   },
   "cell_type": "code",
   "source": [
    "# Label encode column 'track_genre'\n",
    "from sklearn.preprocessing import LabelEncoder\n",
    "\n",
    "label_encoder = LabelEncoder()\n",
    "df = df.copy()\n",
    "df.loc[:, 'track_genre_encoded'] = label_encoder.fit_transform(df['track_genre'])"
   ],
   "id": "f4fddd2ea441e294",
   "outputs": [],
   "execution_count": 9
  },
  {
   "metadata": {},
   "cell_type": "markdown",
   "source": [
    "# IMPORTANT for DVC production: make a dataset with the unexploitable columns to retrieve the track genre later\n",
    "\n",
    "- **Columns Dataframe 1**: ['Unnamed: 0', 'track_id', 'artists', 'album_name', 'track_name', 'track_genre', track_genre_encoded]\n",
    "- **Columns Dataframe 2**: ['track_id', 'popularity', 'duration_ms', 'explicit', 'danceability', 'energy', 'key', 'loudness', 'mode', 'speechiness', 'acousticness', 'instrumentalness', 'liveness', 'valence', 'tempo', 'time_signature']\n",
    "\n",
    "## 'track_id' is the key to merge the two dataframes !"
   ],
   "id": "5b1c95c9f419302e"
  },
  {
   "metadata": {},
   "cell_type": "markdown",
   "source": "# **Track genre / Track genre encoded** is the target !",
   "id": "3a1267afd547124"
  },
  {
   "metadata": {
    "ExecuteTime": {
     "end_time": "2024-12-12T21:28:36.867665Z",
     "start_time": "2024-12-12T21:28:36.865412Z"
    }
   },
   "cell_type": "code",
   "source": "unexploitable_columns = ['Unnamed: 0', 'track_id', 'artists', 'album_name', 'track_name', 'track_genre']",
   "id": "24e521361b99fd17",
   "outputs": [],
   "execution_count": 10
  },
  {
   "metadata": {
    "ExecuteTime": {
     "end_time": "2024-12-12T21:28:39.746850Z",
     "start_time": "2024-12-12T21:28:39.741066Z"
    }
   },
   "cell_type": "code",
   "source": [
    "# Dataframe wit those columns :\n",
    "df_unexploitable = df[unexploitable_columns]"
   ],
   "id": "aec60305d5ea5931",
   "outputs": [],
   "execution_count": 11
  },
  {
   "metadata": {
    "ExecuteTime": {
     "end_time": "2024-12-12T21:28:47.757066Z",
     "start_time": "2024-12-12T21:28:47.751780Z"
    }
   },
   "cell_type": "code",
   "source": [
    "# Dataframe without those columns\n",
    "df_exploitable = df.drop(columns=unexploitable_columns)"
   ],
   "id": "7086f1697074ee95",
   "outputs": [],
   "execution_count": 12
  },
  {
   "metadata": {
    "ExecuteTime": {
     "end_time": "2024-12-12T21:28:49.926085Z",
     "start_time": "2024-12-12T21:28:49.923151Z"
    }
   },
   "cell_type": "code",
   "source": "df_exploitable.shape",
   "id": "facdcc89a2a15961",
   "outputs": [
    {
     "data": {
      "text/plain": [
       "(113999, 16)"
      ]
     },
     "execution_count": 13,
     "metadata": {},
     "output_type": "execute_result"
    }
   ],
   "execution_count": 13
  },
  {
   "metadata": {},
   "cell_type": "markdown",
   "source": "# Begin of preprocessing",
   "id": "7244ce43a7c325c8"
  },
  {
   "metadata": {},
   "cell_type": "markdown",
   "source": "## Standardization",
   "id": "8b050c407392a6b"
  },
  {
   "metadata": {
    "ExecuteTime": {
     "end_time": "2024-12-12T21:30:40.303103Z",
     "start_time": "2024-12-12T21:30:40.267742Z"
    }
   },
   "cell_type": "code",
   "source": [
    "# Standardize the data\n",
    "from sklearn.preprocessing import StandardScaler\n",
    "\n",
    "scaler = StandardScaler()\n",
    "scaled_features = scaler.fit_transform(df_exploitable.drop(columns=['track_genre_encoded']))\n",
    "\n",
    "# Remettre sous forme de DataFrame\n",
    "df_std_scaler = pd.DataFrame(scaled_features, columns=df_exploitable.columns[:-1])  # Les colonnes sans la target\n",
    "\n",
    "# Réajouter la colonne cible\n",
    "df_std_scaler['track_genre_encoded'] = df_exploitable['track_genre_encoded']"
   ],
   "id": "f4d8e69cf31d1ed3",
   "outputs": [],
   "execution_count": 14
  },
  {
   "metadata": {
    "ExecuteTime": {
     "end_time": "2024-12-12T21:30:43.063760Z",
     "start_time": "2024-12-12T21:30:43.054591Z"
    }
   },
   "cell_type": "code",
   "source": [
    "# drop null values\n",
    "df_std_scaler = df_std_scaler.dropna()"
   ],
   "id": "fe99fc9911af84cf",
   "outputs": [],
   "execution_count": 15
  },
  {
   "metadata": {
    "ExecuteTime": {
     "end_time": "2024-12-12T21:31:33.445350Z",
     "start_time": "2024-12-12T21:31:33.440789Z"
    }
   },
   "cell_type": "code",
   "source": [
    "def correlation_analysis(df_to_analyse, threshold=0.40):\n",
    "    \"\"\"\n",
    "    Analyze the correlations between features in a Pandas DataFrame and return the most correlated and anti-correlated pairs,\n",
    "    as well as pairs exceeding an absolute correlation threshold if provided.\n",
    "\n",
    "    Parameters:\n",
    "    df (pd.DataFrame): Input DataFrame with numerical features.\n",
    "    threshold (float, optional): Absolute correlation threshold to filter pairs. If None, threshold filtering is not applied.\n",
    "\n",
    "    Returns:\n",
    "    dict: A dictionary containing the most correlated and anti-correlated pairs with their features and values,\n",
    "          and optionally, pairs exceeding the threshold.\n",
    "    \"\"\"\n",
    "    if not isinstance(df_to_analyse, pd.DataFrame):\n",
    "        raise ValueError(\"Input must be a Pandas DataFrame\")\n",
    "\n",
    "    # Compute the correlation matrix\n",
    "    corr_matrix = df_to_analyse.corr()\n",
    "\n",
    "    # Filter upper triangle of the correlation matrix\n",
    "    corr_matrix_upper = corr_matrix.where(~(np.tril(np.ones(corr_matrix.shape)).astype(bool)))\n",
    "\n",
    "    # Find the most correlated pair\n",
    "    max_corr = corr_matrix_upper.unstack().dropna().idxmax()\n",
    "    max_corr_value = corr_matrix_upper.unstack().dropna().max()\n",
    "\n",
    "    # Find the most anti-correlated pair\n",
    "    min_corr = corr_matrix_upper.unstack().dropna().idxmin()\n",
    "    min_corr_value = corr_matrix_upper.unstack().dropna().min()\n",
    "\n",
    "    result = {\n",
    "        \"correlated\": {\n",
    "            \"features\": max_corr,\n",
    "            \"value\": max_corr_value\n",
    "        },\n",
    "        \"anticorrelated\": {\n",
    "            \"features\": min_corr,\n",
    "            \"value\": min_corr_value\n",
    "        },\n",
    "        \"threshold_exceeding_pairs\": []\n",
    "    }\n",
    "\n",
    "    # Filter pairs based on the absolute threshold if provided\n",
    "    if threshold is not None:\n",
    "        filtered_pairs = corr_matrix_upper.unstack().dropna().loc[lambda x: abs(x) >= threshold]\n",
    "        result[\"threshold_exceeding_pairs\"] = [\n",
    "            {\"features\": pair, \"value\": value}\n",
    "            for pair, value in filtered_pairs.sort_values(ascending=False).items()\n",
    "        ]\n",
    "\n",
    "    return result"
   ],
   "id": "a829ca79a33979dc",
   "outputs": [],
   "execution_count": 16
  },
  {
   "metadata": {
    "ExecuteTime": {
     "end_time": "2024-12-12T21:31:35.390421Z",
     "start_time": "2024-12-12T21:31:35.308805Z"
    }
   },
   "cell_type": "code",
   "source": [
    "# Use the function\n",
    "correlated_features_dict = correlation_analysis(df_std_scaler)"
   ],
   "id": "3982ace962a56780",
   "outputs": [],
   "execution_count": 17
  },
  {
   "metadata": {
    "ExecuteTime": {
     "end_time": "2024-12-12T21:31:36.455258Z",
     "start_time": "2024-12-12T21:31:36.451684Z"
    }
   },
   "cell_type": "code",
   "source": [
    "# Extract all unique features\n",
    "features = set()\n",
    "features.update(correlated_features_dict['correlated']['features'])\n",
    "features.update(correlated_features_dict['anticorrelated']['features'])\n",
    "for pair in correlated_features_dict['threshold_exceeding_pairs']:\n",
    "    features.update(pair['features'])\n",
    "\n",
    "# Convert to a sorted list\n",
    "feature_list = sorted(features)"
   ],
   "id": "90ed00042fe6ce4",
   "outputs": [],
   "execution_count": 18
  },
  {
   "metadata": {
    "ExecuteTime": {
     "end_time": "2024-12-12T18:47:12.158713Z",
     "start_time": "2024-12-12T18:47:12.155778Z"
    }
   },
   "cell_type": "code",
   "source": [
    "print(feature_list)\n",
    "print(len(feature_list))"
   ],
   "id": "cc9ef7c08a5dbfcd",
   "outputs": [
    {
     "name": "stdout",
     "output_type": "stream",
     "text": [
      "['acousticness', 'danceability', 'energy', 'instrumentalness', 'loudness', 'valence']\n",
      "6\n"
     ]
    }
   ],
   "execution_count": 104
  },
  {
   "metadata": {},
   "cell_type": "markdown",
   "source": "## Standardization and UMAP",
   "id": "e5b8efd315e7ba5"
  },
  {
   "metadata": {
    "ExecuteTime": {
     "end_time": "2024-12-12T21:32:49.143944Z",
     "start_time": "2024-12-12T21:31:54.326325Z"
    }
   },
   "cell_type": "code",
   "source": [
    "# From the df_std_scaled, we will use UMAP to reduce the dimensionality\n",
    "import umap\n",
    "\n",
    "umap_reducer = umap.UMAP(n_components=6)\n",
    "df_umap = umap_reducer.fit_transform(df_std_scaler)\n",
    "\n",
    "# Create a DataFrame\n",
    "df_umap = pd.DataFrame(df_umap, columns=['UMAP1', 'UMAP2', 'UMAP3', 'UMAP4', 'UMAP5', 'UMAP6'])\n",
    "\n",
    "# Concatenate with the target\n",
    "df_umap = pd.concat([df_umap, df['track_genre_encoded']], axis=1)"
   ],
   "id": "a47d19c3365b14f2",
   "outputs": [],
   "execution_count": 19
  },
  {
   "metadata": {
    "jupyter": {
     "is_executing": true
    },
    "ExecuteTime": {
     "start_time": "2024-12-12T14:54:13.682133Z"
    }
   },
   "cell_type": "code",
   "source": [
    "from sklearn.metrics import mean_squared_error\n",
    "\n",
    "\n",
    "mse_list = []\n",
    "for n in range(2, 7):\n",
    "    print(f\"Reducing to {n} dimensions\")\n",
    "    umap_reducer = umap.UMAP(n_components=n, random_state=42)\n",
    "    df_reduced = umap_reducer.fit_transform(df_std_scaler)\n",
    "    df_reconstructed = umap_reducer.inverse_transform(df_reduced)\n",
    "    mse = mean_squared_error(df_std_scaler, df_reconstructed)\n",
    "    mse_list.append(mse)\n",
    "    print(f\"Mean Squared Error: {mse}\")\n",
    "\n",
    "# Find the optimal number of components (lowest mse)\n",
    "optimal_components = np.argmin(mse_list) + 2  # +2 because the loop starts at 2\n",
    "print(f\"Optimal number of components: {optimal_components}\")"
   ],
   "id": "1028cafe9653593c",
   "outputs": [
    {
     "name": "stdout",
     "output_type": "stream",
     "text": [
      "Reducing to 2 dimensions\n"
     ]
    },
    {
     "name": "stderr",
     "output_type": "stream",
     "text": [
      "/home/matthieu/UbuntuData/PycharmProjects/MelodAI/.venv/lib/python3.10/site-packages/umap/umap_.py:1952: UserWarning:\n",
      "\n",
      "n_jobs value 1 overridden to 1 by setting random_state. Use no seed for parallelism.\n",
      "\n"
     ]
    }
   ],
   "execution_count": null
  },
  {
   "metadata": {
    "ExecuteTime": {
     "end_time": "2024-12-12T21:35:18.649056Z",
     "start_time": "2024-12-12T21:35:18.643646Z"
    }
   },
   "cell_type": "code",
   "source": [
    "# Drop null values\n",
    "df_umap = df_umap.dropna()"
   ],
   "id": "7651880435cdf926",
   "outputs": [],
   "execution_count": 21
  },
  {
   "metadata": {},
   "cell_type": "markdown",
   "source": "## Model selection : Logistic Regression / Random Forest / XGBoost",
   "id": "843d4af27e6b194a"
  },
  {
   "metadata": {
    "ExecuteTime": {
     "end_time": "2024-12-12T21:35:51.294621Z",
     "start_time": "2024-12-12T21:35:51.288002Z"
    }
   },
   "cell_type": "code",
   "source": [
    "# Remove null values\n",
    "df_std_scaler = df_std_scaler.dropna()"
   ],
   "id": "cec5a11d1415035a",
   "outputs": [],
   "execution_count": 22
  },
  {
   "metadata": {
    "ExecuteTime": {
     "end_time": "2024-12-12T21:35:55.058229Z",
     "start_time": "2024-12-12T21:35:55.054754Z"
    }
   },
   "cell_type": "code",
   "source": [
    "# Keep these columns : ['acousticness', 'danceability', 'energy', 'instrumentalness', 'loudness', 'valence', 'track_genre_encoded']\n",
    "df_std_scaler = df_std_scaler[['acousticness', 'danceability', 'energy', 'instrumentalness', 'loudness', 'valence', 'track_genre_encoded']]"
   ],
   "id": "e2cb2fa3822bff69",
   "outputs": [],
   "execution_count": 23
  },
  {
   "metadata": {
    "ExecuteTime": {
     "end_time": "2024-12-12T21:40:21.964391Z",
     "start_time": "2024-12-12T21:40:21.905563Z"
    }
   },
   "cell_type": "code",
   "source": [
    "from sklearn.model_selection import train_test_split\n",
    "\n",
    "# Features: all columns except 'track_genre_encoded'\n",
    "# Target: 'track_genre_encoded' column\n",
    "X = df_umap.drop(columns=['track_genre_encoded'])  # Features\n",
    "y = df_umap['track_genre_encoded']  # Target\n",
    "\n",
    "# Initial split with stratified sampling (60% train, 40% test)\n",
    "X_train, X_test, y_train, y_test = train_test_split(X, y, \n",
    "                                                    test_size=0.2, \n",
    "                                                    stratify=y, \n",
    "                                                    random_state=42)\n",
    "\n",
    "# Further split the training set to create a validation set (50% of the training set)\n",
    "X_train, X_val, y_train, y_val = train_test_split(X_train, y_train,\n",
    "                                                  test_size=0.1, \n",
    "                                                  stratify=y_train, \n",
    "                                                  random_state=42)"
   ],
   "id": "4bc56422c401bccd",
   "outputs": [],
   "execution_count": 27
  },
  {
   "metadata": {
    "ExecuteTime": {
     "end_time": "2024-12-12T21:40:23.436856Z",
     "start_time": "2024-12-12T21:40:23.434268Z"
    }
   },
   "cell_type": "code",
   "source": [
    "# Verify the sizes of the splits\n",
    "print(f\"Training set size: {X_train.shape[0]}\")\n",
    "print(f\"Validation set size: {X_val.shape[0]}\")\n",
    "print(f\"Test set size: {X_test.shape[0]}\")"
   ],
   "id": "c1a7d934881564ae",
   "outputs": [
    {
     "name": "stdout",
     "output_type": "stream",
     "text": [
      "Training set size: 82077\n",
      "Validation set size: 9120\n",
      "Test set size: 22800\n"
     ]
    }
   ],
   "execution_count": 28
  },
  {
   "metadata": {
    "ExecuteTime": {
     "end_time": "2024-12-12T21:40:28.683830Z",
     "start_time": "2024-12-12T21:40:28.680792Z"
    }
   },
   "cell_type": "code",
   "source": [
    "# Vérification des tailles\n",
    "print(f\"Nombre total d'échantillons dans le train : {len(y_train)}\")\n",
    "print(f\"Nombre total d'échantillons dans le test : {len(y_test)}\")"
   ],
   "id": "3e09ef7ed1d719da",
   "outputs": [
    {
     "name": "stdout",
     "output_type": "stream",
     "text": [
      "Nombre total d'échantillons dans le train : 82077\n",
      "Nombre total d'échantillons dans le test : 22800\n"
     ]
    }
   ],
   "execution_count": 29
  },
  {
   "metadata": {
    "ExecuteTime": {
     "end_time": "2024-12-12T21:41:30.794979Z",
     "start_time": "2024-12-12T21:41:30.792575Z"
    }
   },
   "cell_type": "code",
   "source": "print(X_train.shape, X_test.shape, y_train.shape, y_test.shape)",
   "id": "ba81a8ca199110a3",
   "outputs": [
    {
     "name": "stdout",
     "output_type": "stream",
     "text": [
      "(82077, 6) (22800, 6) (82077,) (22800,)\n"
     ]
    }
   ],
   "execution_count": 33
  },
  {
   "metadata": {
    "ExecuteTime": {
     "end_time": "2024-12-12T21:41:54.771187Z",
     "start_time": "2024-12-12T21:41:34.495284Z"
    }
   },
   "cell_type": "code",
   "source": [
    "# Logistic Regression\n",
    "from sklearn.linear_model import LogisticRegression\n",
    "from sklearn.metrics import accuracy_score, precision_score, recall_score\n",
    "\n",
    "log_reg = LogisticRegression()\n",
    "print(f\"Training Logistic Regression model...\")\n",
    "log_reg.fit(X_train, y_train)\n",
    "print(f\"Training complete!\")\n",
    "\n",
    "y_pred = log_reg.predict(X_test)\n",
    "\n",
    "accuracy = accuracy_score(y_test, y_pred)\n",
    "precision = precision_score(y_test, y_pred, average='weighted')\n",
    "recall = recall_score(y_test, y_pred, average='weighted')"
   ],
   "id": "37f23ec8decc6e6f",
   "outputs": [
    {
     "name": "stdout",
     "output_type": "stream",
     "text": [
      "Training Logistic Regression model...\n",
      "Training complete!\n"
     ]
    },
    {
     "name": "stderr",
     "output_type": "stream",
     "text": [
      "/home/matthieu/UbuntuData/PycharmProjects/MelodAI/.venv/lib/python3.10/site-packages/sklearn/linear_model/_logistic.py:469: ConvergenceWarning: lbfgs failed to converge (status=1):\n",
      "STOP: TOTAL NO. of ITERATIONS REACHED LIMIT.\n",
      "\n",
      "Increase the number of iterations (max_iter) or scale the data as shown in:\n",
      "    https://scikit-learn.org/stable/modules/preprocessing.html\n",
      "Please also refer to the documentation for alternative solver options:\n",
      "    https://scikit-learn.org/stable/modules/linear_model.html#logistic-regression\n",
      "  n_iter_i = _check_optimize_result(\n",
      "/home/matthieu/UbuntuData/PycharmProjects/MelodAI/.venv/lib/python3.10/site-packages/sklearn/metrics/_classification.py:1531: UndefinedMetricWarning: Precision is ill-defined and being set to 0.0 in labels with no predicted samples. Use `zero_division` parameter to control this behavior.\n",
      "  _warn_prf(average, modifier, f\"{metric.capitalize()} is\", len(result))\n"
     ]
    }
   ],
   "execution_count": 34
  },
  {
   "metadata": {
    "ExecuteTime": {
     "end_time": "2024-12-12T21:42:20.257319Z",
     "start_time": "2024-12-12T21:42:20.254372Z"
    }
   },
   "cell_type": "code",
   "source": [
    "print(f\"Accuracy: {accuracy}\")\n",
    "print(f\"Precision: {precision}\")\n",
    "print(f\"Recall: {recall}\")\n",
    "\n",
    "print(f\"Predictions: {y_pred}\")"
   ],
   "id": "97cfd10160a1a6c",
   "outputs": [
    {
     "name": "stdout",
     "output_type": "stream",
     "text": [
      "Accuracy: 0.4724122807017544\n",
      "Precision: 0.42817330802393805\n",
      "Recall: 0.4724122807017544\n",
      "Predictions: [ 14.  23.  17. ... 111.  28.  40.]\n"
     ]
    }
   ],
   "execution_count": 35
  },
  {
   "metadata": {
    "ExecuteTime": {
     "end_time": "2024-12-12T18:50:29.419329Z",
     "start_time": "2024-12-12T18:50:29.414843Z"
    }
   },
   "cell_type": "code",
   "source": [
    "# Save model\n",
    "import joblib\n",
    "\n",
    "model_path = \"/home/matthieu/UbuntuData/PycharmProjects/MelodAI/non_official_models\"\n",
    "joblib.dump(log_reg, os.path.join(model_path, \"logistic_regression_model.pkl\"))"
   ],
   "id": "7a0aa95841054d08",
   "outputs": [
    {
     "data": {
      "text/plain": [
       "['/home/matthieu/UbuntuData/PycharmProjects/MelodAI/non_official_models/logistic_regression_model.pkl']"
      ]
     },
     "execution_count": 114,
     "metadata": {},
     "output_type": "execute_result"
    }
   ],
   "execution_count": 114
  },
  {
   "metadata": {
    "ExecuteTime": {
     "end_time": "2024-12-12T21:43:03.117887Z",
     "start_time": "2024-12-12T21:42:24.829095Z"
    }
   },
   "cell_type": "code",
   "source": [
    "# Random Forest\n",
    "from sklearn.ensemble import RandomForestClassifier\n",
    "\n",
    "rf = RandomForestClassifier()\n",
    "print(f\"Training Random Forest model...\")\n",
    "rf.fit(X_train, y_train)\n",
    "print(f\"Training complete!\")\n",
    "\n",
    "y_pred = rf.predict(X_test)\n",
    "\n",
    "accuracy = accuracy_score(y_test, y_pred)\n",
    "precision = precision_score(y_test, y_pred, average='weighted')\n",
    "recall = recall_score(y_test, y_pred, average='weighted')"
   ],
   "id": "44a1d3659fa7d575",
   "outputs": [
    {
     "name": "stdout",
     "output_type": "stream",
     "text": [
      "Training Random Forest model...\n",
      "Training complete!\n"
     ]
    }
   ],
   "execution_count": 36
  },
  {
   "metadata": {
    "ExecuteTime": {
     "end_time": "2024-12-12T21:44:08.650110Z",
     "start_time": "2024-12-12T21:44:08.646747Z"
    }
   },
   "cell_type": "code",
   "source": [
    "print(f\"Accuracy: {accuracy}\")\n",
    "print(f\"Precision: {precision}\")\n",
    "print(f\"Recall: {recall}\")\n",
    "\n",
    "print(f\"Predictions: {y_pred}\")"
   ],
   "id": "cb8e88ad37ddc10a",
   "outputs": [
    {
     "name": "stdout",
     "output_type": "stream",
     "text": [
      "Accuracy: 0.8807017543859649\n",
      "Precision: 0.8815006723841875\n",
      "Recall: 0.8807017543859649\n",
      "Predictions: [ 14.  23.  16. ... 111.  29.  40.]\n"
     ]
    }
   ],
   "execution_count": 37
  },
  {
   "metadata": {
    "ExecuteTime": {
     "end_time": "2024-12-12T21:44:32.677992Z",
     "start_time": "2024-12-12T21:44:32.059504Z"
    }
   },
   "cell_type": "code",
   "source": [
    "# Confusion matrix\n",
    "from sklearn.metrics import confusion_matrix\n",
    "import seaborn as sns\n",
    "import matplotlib.pyplot as plt\n",
    "\n",
    "conf_matrix = confusion_matrix(y_test, y_pred)\n",
    "plt.figure(figsize=(12, 10))\n",
    "sns.heatmap(conf_matrix, annot=False, fmt=\"d\", cmap=\"Blues\")\n",
    "plt.xlabel('Prédictions')\n",
    "plt.ylabel('Vérités')\n",
    "plt.title('Matrice de confusion')\n",
    "plt.show()\n"
   ],
   "id": "25814fbbbb949ed5",
   "outputs": [
    {
     "data": {
      "text/plain": [
       "<Figure size 1200x1000 with 2 Axes>"
      ],
      "image/png": "[encoded data removed]"
     },
     "metadata": {},
     "output_type": "display_data"
    }
   ],
   "execution_count": 38
  },
  {
   "metadata": {
    "ExecuteTime": {
     "end_time": "2024-12-12T21:53:18.422447Z",
     "start_time": "2024-12-12T21:53:18.399866Z"
    }
   },
   "cell_type": "code",
   "source": [
    "from sklearn.metrics import classification_report\n",
    "\n",
    "print(classification_report(y_test, y_pred))"
   ],
   "id": "34b397900d13db54",
   "outputs": [
    {
     "name": "stdout",
     "output_type": "stream",
     "text": [
      "              precision    recall  f1-score   support\n",
      "\n",
      "         0.0       0.94      0.91      0.92       200\n",
      "         1.0       0.89      0.92      0.90       200\n",
      "         2.0       0.65      0.74      0.70       200\n",
      "         3.0       0.71      0.61      0.66       200\n",
      "         4.0       0.83      0.91      0.87       200\n",
      "         5.0       0.89      0.80      0.84       200\n",
      "         6.0       0.95      0.96      0.95       200\n",
      "         7.0       0.90      0.94      0.92       200\n",
      "         8.0       0.84      0.84      0.84       200\n",
      "         9.0       0.89      0.83      0.86       200\n",
      "        10.0       0.92      0.96      0.94       200\n",
      "        11.0       0.87      0.78      0.82       200\n",
      "        12.0       0.83      0.89      0.86       200\n",
      "        13.0       0.97      0.98      0.98       200\n",
      "        14.0       0.89      0.88      0.89       200\n",
      "        15.0       0.90      0.90      0.90       200\n",
      "        16.0       0.95      0.97      0.96       200\n",
      "        17.0       0.95      0.96      0.95       200\n",
      "        18.0       0.96      0.95      0.96       200\n",
      "        19.0       0.93      0.92      0.92       200\n",
      "        20.0       0.89      0.90      0.89       200\n",
      "        21.0       0.95      0.94      0.95       200\n",
      "        22.0       0.99      0.97      0.98       200\n",
      "        23.0       0.94      0.94      0.94       200\n",
      "        24.0       0.90      0.90      0.90       200\n",
      "        25.0       0.88      0.89      0.88       200\n",
      "        26.0       0.94      0.93      0.93       200\n",
      "        27.0       0.95      0.90      0.92       200\n",
      "        28.0       0.69      0.69      0.69       200\n",
      "        29.0       0.70      0.76      0.73       200\n",
      "        30.0       0.87      0.83      0.85       200\n",
      "        31.0       0.83      0.84      0.84       200\n",
      "        32.0       0.86      0.86      0.86       200\n",
      "        33.0       0.89      0.90      0.89       200\n",
      "        34.0       0.95      0.91      0.93       200\n",
      "        35.0       0.90      0.97      0.93       200\n",
      "        36.0       0.84      0.78      0.81       200\n",
      "        37.0       0.81      0.85      0.83       200\n",
      "        38.0       0.90      0.92      0.91       200\n",
      "        39.0       0.95      0.90      0.92       200\n",
      "        40.0       0.89      0.97      0.93       200\n",
      "        41.0       0.93      0.88      0.90       200\n",
      "        42.0       0.92      0.96      0.94       200\n",
      "        43.0       0.91      0.78      0.84       200\n",
      "        44.0       0.84      0.91      0.87       200\n",
      "        45.0       0.98      0.98      0.98       200\n",
      "        46.0       0.97      0.96      0.97       200\n",
      "        47.0       0.90      0.89      0.90       200\n",
      "        48.0       0.87      0.85      0.86       200\n",
      "        49.0       0.88      0.92      0.90       200\n",
      "        50.0       0.94      0.95      0.95       200\n",
      "        51.0       0.99      0.98      0.99       200\n",
      "        52.0       0.99      0.99      0.99       200\n",
      "        53.0       0.95      0.96      0.96       200\n",
      "        54.0       0.94      0.93      0.93       200\n",
      "        55.0       0.79      0.77      0.78       200\n",
      "        56.0       0.60      0.56      0.58       200\n",
      "        57.0       0.60      0.63      0.61       200\n",
      "        58.0       0.91      0.91      0.91       200\n",
      "        59.0       0.94      0.96      0.95       200\n",
      "        60.0       0.93      0.89      0.91       200\n",
      "        61.0       0.89      0.94      0.91       200\n",
      "        62.0       0.78      0.73      0.76       200\n",
      "        63.0       0.78      0.81      0.80       200\n",
      "        64.0       0.91      0.91      0.91       200\n",
      "        65.0       0.95      0.95      0.95       200\n",
      "        66.0       0.95      0.95      0.95       200\n",
      "        67.0       0.85      0.92      0.88       200\n",
      "        68.0       0.88      0.78      0.82       200\n",
      "        69.0       0.83      0.80      0.81       200\n",
      "        70.0       0.82      0.91      0.86       200\n",
      "        71.0       0.82      0.80      0.81       200\n",
      "        72.0       0.82      0.81      0.82       200\n",
      "        73.0       0.96      0.99      0.98       200\n",
      "        74.0       0.95      0.97      0.96       200\n",
      "        75.0       0.82      0.84      0.83       200\n",
      "        76.0       0.85      0.81      0.83       200\n",
      "        77.0       0.97      0.96      0.96       200\n",
      "        78.0       0.96      0.97      0.97       200\n",
      "        79.0       0.94      0.86      0.90       200\n",
      "        80.0       0.81      0.83      0.82       200\n",
      "        81.0       0.83      0.85      0.84       200\n",
      "        82.0       0.94      0.93      0.93       200\n",
      "        83.0       0.95      0.94      0.95       200\n",
      "        84.0       0.93      0.89      0.91       200\n",
      "        85.0       0.70      0.78      0.74       200\n",
      "        86.0       0.73      0.72      0.73       200\n",
      "        87.0       0.89      0.85      0.87       200\n",
      "        88.0       0.75      0.69      0.72       200\n",
      "        89.0       0.74      0.80      0.77       200\n",
      "        90.0       0.97      0.94      0.95       200\n",
      "        91.0       0.73      0.79      0.76       200\n",
      "        92.0       0.75      0.71      0.73       200\n",
      "        93.0       0.95      0.95      0.95       200\n",
      "        94.0       0.99      0.98      0.99       200\n",
      "        95.0       0.94      0.96      0.95       200\n",
      "        96.0       0.92      0.89      0.90       200\n",
      "        97.0       0.90      0.93      0.92       200\n",
      "        98.0       0.93      0.93      0.93       200\n",
      "        99.0       0.93      0.94      0.94       200\n",
      "       100.0       0.96      0.94      0.95       200\n",
      "       101.0       0.99      0.99      0.99       200\n",
      "       102.0       0.87      0.90      0.88       200\n",
      "       103.0       0.83      0.80      0.81       200\n",
      "       104.0       0.92      0.90      0.91       200\n",
      "       105.0       0.96      0.96      0.96       200\n",
      "       106.0       0.85      0.81      0.83       200\n",
      "       107.0       0.83      0.86      0.85       200\n",
      "       108.0       0.96      0.99      0.98       200\n",
      "       109.0       0.90      0.85      0.87       200\n",
      "       110.0       0.83      0.89      0.86       200\n",
      "       111.0       0.88      0.82      0.85       200\n",
      "       112.0       0.81      0.85      0.83       200\n",
      "       113.0       0.93      0.92      0.92       200\n",
      "\n",
      "    accuracy                           0.88     22800\n",
      "   macro avg       0.88      0.88      0.88     22800\n",
      "weighted avg       0.88      0.88      0.88     22800\n",
      "\n"
     ]
    }
   ],
   "execution_count": 41
  },
  {
   "metadata": {
    "ExecuteTime": {
     "end_time": "2024-12-12T21:54:12.749854Z",
     "start_time": "2024-12-12T21:54:12.724259Z"
    }
   },
   "cell_type": "code",
   "source": [
    "def save_classification_report(y_test, y_pred, file_path):\n",
    "    \"\"\"\n",
    "    Calcule le rapport de classification et l'enregistre dans un fichier texte.\n",
    "\n",
    "    Paramètres :\n",
    "    - y_test : array-like, labels réelles\n",
    "    - y_pred : array-like, prédictions du modèle\n",
    "    - file_path : str, chemin du fichier où enregistrer le rapport\n",
    "    \"\"\"\n",
    "    report = classification_report(y_test, y_pred)\n",
    "    \n",
    "    with open(file_path, 'w') as file:\n",
    "        file.write(report)\n",
    "    print(f\"Le rapport a été sauvegardé dans {file_path}\")\n",
    "\n",
    "# Exemple d'utilisation\n",
    "# y_test et y_pred doivent être définis au préalable\n",
    "save_classification_report(y_test, y_pred, \"/home/matthieu/UbuntuData/PycharmProjects/MelodAI/non_official_models/classification_report.txt\")\n"
   ],
   "id": "4e52db549f68867a",
   "outputs": [
    {
     "name": "stdout",
     "output_type": "stream",
     "text": [
      "Le rapport a été sauvegardé dans /home/matthieu/UbuntuData/PycharmProjects/MelodAI/non_official_models/classification_report.txt\n"
     ]
    }
   ],
   "execution_count": 42
  },
  {
   "metadata": {
    "ExecuteTime": {
     "end_time": "2024-12-12T19:08:42.661263Z",
     "start_time": "2024-12-12T19:08:41.648487Z"
    }
   },
   "cell_type": "code",
   "source": [
    "# Save model\n",
    "\n",
    "joblib.dump(rf, os.path.join(model_path, \"banger_random_forest_model.pkl\"))"
   ],
   "id": "faab5f907adddc2",
   "outputs": [
    {
     "data": {
      "text/plain": [
       "['/home/matthieu/UbuntuData/PycharmProjects/MelodAI/non_official_models/banger_random_forest_model.pkl']"
      ]
     },
     "execution_count": 170,
     "metadata": {},
     "output_type": "execute_result"
    }
   ],
   "execution_count": 170
  },
  {
   "metadata": {
    "ExecuteTime": {
     "end_time": "2024-12-12T19:06:05.152747Z",
     "start_time": "2024-12-12T19:06:05.149534Z"
    }
   },
   "cell_type": "code",
   "source": [
    "# Code a well-structured function to predict a row from the y_test\n",
    "def predict_row(model, row):\n",
    "    \"\"\"\n",
    "    Predict the genre of a row using a trained model.\n",
    "\n",
    "    Parameters:\n",
    "    model: Trained model object.\n",
    "    row: Input row to predict.\n",
    "\n",
    "    Returns:\n",
    "    int: Predicted genre.\n",
    "    \"\"\"\n",
    "    return model.predict(row.values.reshape(1, -1))[0]"
   ],
   "id": "a0445e28c248aa72",
   "outputs": [],
   "execution_count": 158
  },
  {
   "metadata": {},
   "cell_type": "markdown",
   "source": "## For unique values from validation set",
   "id": "f34b795bf296bb7c"
  },
  {
   "metadata": {
    "ExecuteTime": {
     "end_time": "2024-12-12T19:07:33.233576Z",
     "start_time": "2024-12-12T19:07:33.226651Z"
    }
   },
   "cell_type": "code",
   "source": [
    "# Test the function using a row from the validation set\n",
    "iloc = 2313\n",
    "temp = X_val.iloc[iloc]  # Retrieve the complete row from the validation set\n",
    "row = temp  # All columns are features\n",
    "actual_genre = y_val.iloc[iloc]  # The target value from the validation set\n",
    "\n",
    "print(f\"Input row: {row}\")\n",
    "print(f\"Predicted genre: {predict_row(rf, row)}\")\n",
    "print(f\"Actual genre: {actual_genre}\")"
   ],
   "id": "882291c69f13c570",
   "outputs": [
    {
     "name": "stdout",
     "output_type": "stream",
     "text": [
      "Input row: UMAP1    2.676712\n",
      "UMAP2    0.175155\n",
      "UMAP3   -4.033050\n",
      "UMAP4   -0.839369\n",
      "UMAP5   -1.249678\n",
      "UMAP6    9.432928\n",
      "Name: 104242, dtype: float32\n",
      "Predicted genre: 104.0\n",
      "Actual genre: 104.0\n"
     ]
    },
    {
     "name": "stderr",
     "output_type": "stream",
     "text": [
      "/home/matthieu/UbuntuData/PycharmProjects/MelodAI/.venv/lib/python3.10/site-packages/sklearn/base.py:493: UserWarning: X does not have valid feature names, but RandomForestClassifier was fitted with feature names\n",
      "  warnings.warn(\n"
     ]
    }
   ],
   "execution_count": 168
  },
  {
   "metadata": {
    "ExecuteTime": {
     "end_time": "2024-12-12T22:00:37.665633Z",
     "start_time": "2024-12-12T22:00:37.331326Z"
    }
   },
   "cell_type": "code",
   "source": [
    "# Predict the genres for the entire validation set\n",
    "y_val_pred = rf.predict(X_val)\n",
    "\n",
    "# Compare the predictions with the actual genres\n",
    "accuracy = accuracy_score(y_val, y_val_pred)\n",
    "precision = precision_score(y_val, y_val_pred, average='weighted')\n",
    "recall = recall_score(y_val, y_val_pred, average='weighted')\n",
    "\n",
    "print(f\"Validation Accuracy: {accuracy * 100:.2f}%\")\n",
    "print(f\"Validation Precision: {precision * 100:.2f}%\")\n",
    "print(f\"Validation Recall: {recall * 100:.2f}%\")"
   ],
   "id": "198d4db04b82af28",
   "outputs": [
    {
     "name": "stdout",
     "output_type": "stream",
     "text": [
      "Validation Accuracy: 88.80%\n",
      "Validation Precision: 88.93%\n",
      "Validation Recall: 88.80%\n"
     ]
    }
   ],
   "execution_count": 48
  },
  {
   "metadata": {},
   "cell_type": "markdown",
   "source": "# GridSearchCV for Random Forest",
   "id": "9ccc94cd135b7797"
  },
  {
   "metadata": {},
   "cell_type": "code",
   "outputs": [],
   "execution_count": null,
   "source": [
    "from sklearn.ensemble import RandomForestClassifier\n",
    "from sklearn.model_selection import GridSearchCV\n",
    "\n",
    "param_grid = {\n",
    "    'max_depth': [None, 10, 20],\n",
    "    'min_samples_split': [2, 5, 10],\n",
    "    'min_samples_leaf': [1, 2, 4],\n",
    "    'max_features': ['sqrt']\n",
    "}\n",
    "\n",
    "rf = RandomForestClassifier(random_state=42)\n",
    "grid_search = GridSearchCV(estimator=rf, param_grid=param_grid, cv=5, scoring='accuracy', n_jobs=-1)\n",
    "grid_search.fit(X_train, y_train)\n",
    "\n",
    "print(f\"Meilleurs paramètres : {grid_search.best_params_}\")\n",
    "print(f\"Meilleure score : {grid_search.best_score_}\")\n"
   ],
   "id": "4c50214709ae557f"
  },
  {
   "metadata": {},
   "cell_type": "markdown",
   "source": "# **XGBoost**",
   "id": "53b34cc394f1bb92"
  },
  {
   "metadata": {
    "ExecuteTime": {
     "end_time": "2024-12-12T19:13:38.407889Z",
     "start_time": "2024-12-12T19:12:51.631227Z"
    }
   },
   "cell_type": "code",
   "source": [
    "# XGBoost\n",
    "from xgboost import XGBClassifier\n",
    "\n",
    "xgb = XGBClassifier()\n",
    "print(f\"Training XGBoost model...\")\n",
    "xgb.fit(X_train, y_train)\n",
    "print(f\"Training complete!\")\n",
    "\n",
    "y_pred = xgb.predict(X_test)\n",
    "\n",
    "accuracy = accuracy_score(y_test, y_pred)\n",
    "precision = precision_score(y_test, y_pred, average='weighted')\n",
    "recall = recall_score(y_test, y_pred, average='weighted')"
   ],
   "id": "ea2d6630b2b07b1",
   "outputs": [
    {
     "name": "stdout",
     "output_type": "stream",
     "text": [
      "Training XGBoost model...\n",
      "Training complete!\n"
     ]
    },
    {
     "name": "stderr",
     "output_type": "stream",
     "text": [
      "/home/matthieu/UbuntuData/PycharmProjects/MelodAI/.venv/lib/python3.10/site-packages/sklearn/metrics/_classification.py:1531: UndefinedMetricWarning: Precision is ill-defined and being set to 0.0 in labels with no predicted samples. Use `zero_division` parameter to control this behavior.\n",
      "  _warn_prf(average, modifier, f\"{metric.capitalize()} is\", len(result))\n"
     ]
    }
   ],
   "execution_count": 171
  },
  {
   "metadata": {
    "ExecuteTime": {
     "end_time": "2024-12-12T19:13:56.592786Z",
     "start_time": "2024-12-12T19:13:56.589471Z"
    }
   },
   "cell_type": "code",
   "source": [
    "print(f\"Accuracy: {accuracy}\")\n",
    "print(f\"Precision: {precision}\")\n",
    "print(f\"Recall: {recall}\")"
   ],
   "id": "816ee7bff75fc073",
   "outputs": [
    {
     "name": "stdout",
     "output_type": "stream",
     "text": [
      "Accuracy: 0.38719298245614037\n",
      "Precision: 0.19678379878986857\n",
      "Recall: 0.38719298245614037\n"
     ]
    }
   ],
   "execution_count": 172
  },
  {
   "metadata": {},
   "cell_type": "code",
   "outputs": [],
   "execution_count": null,
   "source": "",
   "id": "5c0ee6a137e93cdf"
  },
  {
   "metadata": {},
   "cell_type": "code",
   "outputs": [],
   "execution_count": null,
   "source": "",
   "id": "f91ae1482a1f7579"
  }
 ],
 "metadata": {
  "kernelspec": {
   "display_name": "Python 3",
   "language": "python",
   "name": "python3"
  },
  "language_info": {
   "codemirror_mode": {
    "name": "ipython",
    "version": 2
   },
   "file_extension": ".py",
   "mimetype": "text/x-python",
   "name": "python",
   "nbconvert_exporter": "python",
   "pygments_lexer": "ipython2",
   "version": "2.7.6"
  }
 },
 "nbformat": 4,
 "nbformat_minor": 5
}

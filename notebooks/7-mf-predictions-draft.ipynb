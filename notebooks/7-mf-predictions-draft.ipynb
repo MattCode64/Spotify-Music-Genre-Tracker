{
 "cells": [
  {
   "cell_type": "code",
   "id": "initial_id",
   "metadata": {
    "collapsed": true,
    "ExecuteTime": {
     "end_time": "2025-01-06T15:39:36.267475Z",
     "start_time": "2025-01-06T15:39:36.264630Z"
    }
   },
   "source": [
    "import pandas as pd\n",
    "import numpy as np\n",
    "import matplotlib.pyplot as plt\n",
    "import seaborn as sns\n",
    "import os\n",
    "import plotly.express as px\n",
    "import joblib\n",
    "import umap\n",
    "from sklearn.preprocessing import LabelEncoder\n",
    "from sklearn.preprocessing import StandardScaler\n",
    "from sklearn.model_selection import train_test_split\n",
    "from sklearn.ensemble import RandomForestClassifier\n",
    "from sklearn.metrics import accuracy_score, precision_score, recall_score\n",
    "from sklearn.metrics import confusion_matrix\n",
    "from sklearn.metrics import classification_report"
   ],
   "outputs": [],
   "execution_count": 66
  },
  {
   "metadata": {
    "ExecuteTime": {
     "end_time": "2025-01-06T15:39:36.329784Z",
     "start_time": "2025-01-06T15:39:36.326682Z"
    }
   },
   "cell_type": "code",
   "source": "model_path = \"/home/matthieu/UbuntuData/PycharmProjects/MelodAI/models/banger_random_forest_model.pkl\"",
   "id": "61c9f6663b4af76a",
   "outputs": [],
   "execution_count": 67
  },
  {
   "metadata": {
    "ExecuteTime": {
     "end_time": "2025-01-06T15:39:36.748876Z",
     "start_time": "2025-01-06T15:39:36.372268Z"
    }
   },
   "cell_type": "code",
   "source": [
    "# Load the model\n",
    "from joblib import load\n",
    "\n",
    "model = load(model_path)"
   ],
   "id": "6364efdc76056536",
   "outputs": [],
   "execution_count": 68
  },
  {
   "metadata": {
    "ExecuteTime": {
     "end_time": "2025-01-06T15:39:36.784946Z",
     "start_time": "2025-01-06T15:39:36.782099Z"
    }
   },
   "cell_type": "code",
   "source": "from src.data.make_data_for_prediction import prepare_data_df",
   "id": "b78eb422d52dbca4",
   "outputs": [],
   "execution_count": 69
  },
  {
   "metadata": {
    "ExecuteTime": {
     "end_time": "2025-01-06T15:39:36.832649Z",
     "start_time": "2025-01-06T15:39:36.828423Z"
    }
   },
   "cell_type": "code",
   "source": [
    "def parse_track_data(track_data: str):\n",
    "    # Split the input string by commas\n",
    "    data = track_data.split(',')\n",
    "\n",
    "    # Define a dictionary with the parsed values\n",
    "    input_data = {\n",
    "        \"track_id\": data[1],\n",
    "        \"artists\": data[2],\n",
    "        \"album_name\": data[3],\n",
    "        \"track_name\": data[4],\n",
    "        \"popularity\": int(data[5]),\n",
    "        \"duration_ms\": int(data[6]),\n",
    "        \"explicit\": data[7] == 'True',\n",
    "        \"danceability\": float(data[8]),\n",
    "        \"energy\": float(data[9]),\n",
    "        \"key\": int(data[10]),\n",
    "        \"loudness\": float(data[11]),\n",
    "        \"mode\": int(data[12]),\n",
    "        \"speechiness\": float(data[13]),\n",
    "        \"acousticness\": float(data[14]),\n",
    "        \"instrumentalness\": float(data[15]),\n",
    "        \"liveness\": float(data[16]),\n",
    "        \"valence\": float(data[17]),\n",
    "        \"tempo\": float(data[18]),\n",
    "        \"time_signature\": int(data[19]),\n",
    "        \"track_genre\": data[20]\n",
    "    }\n",
    "\n",
    "    return input_data\n"
   ],
   "id": "82714f5ac91f603d",
   "outputs": [],
   "execution_count": 70
  },
  {
   "metadata": {
    "ExecuteTime": {
     "end_time": "2025-01-06T15:39:36.880126Z",
     "start_time": "2025-01-06T15:39:36.876289Z"
    }
   },
   "cell_type": "code",
   "source": [
    "def parse_multiple_tracks_data(tracks_data):\n",
    "    # Liste pour stocker les résultats\n",
    "    parsed_tracks = []\n",
    "\n",
    "    # Parcours de chaque ligne des données\n",
    "    for track_data in tracks_data:\n",
    "        # Split des valeurs par la virgule\n",
    "        data = track_data.split(',')\n",
    "\n",
    "        # Création du dictionnaire pour chaque morceau de musique\n",
    "        input_data = {\n",
    "            \"track_id\": data[1],\n",
    "            \"artists\": data[2],\n",
    "            \"album_name\": data[3],\n",
    "            \"track_name\": data[4],\n",
    "            \"popularity\": int(data[5]),\n",
    "            \"duration_ms\": int(data[6]),\n",
    "            \"explicit\": data[7] == 'True',\n",
    "            \"danceability\": float(data[8]),\n",
    "            \"energy\": float(data[9]),\n",
    "            \"key\": int(data[10]),\n",
    "            \"loudness\": float(data[11]),\n",
    "            \"mode\": int(data[12]),\n",
    "            \"speechiness\": float(data[13]),\n",
    "            \"acousticness\": float(data[14]),\n",
    "            \"instrumentalness\": float(data[15]),\n",
    "            \"liveness\": float(data[16]),\n",
    "            \"valence\": float(data[17]),\n",
    "            \"tempo\": float(data[18]),\n",
    "            \"time_signature\": int(data[19]),\n",
    "            \"track_genre\": data[20]\n",
    "        }\n",
    "\n",
    "        # Ajout du dictionnaire à la liste des résultats\n",
    "        parsed_tracks.append(input_data)\n",
    "\n",
    "    return parsed_tracks\n"
   ],
   "id": "1d3ae5f514b92261",
   "outputs": [],
   "execution_count": 71
  },
  {
   "metadata": {
    "ExecuteTime": {
     "end_time": "2025-01-06T15:41:39.730099Z",
     "start_time": "2025-01-06T15:41:39.727206Z"
    }
   },
   "cell_type": "code",
   "source": [
    "tracks_data = [\n",
    "    \"0,5SuOikwiRyPMVoIQDJUgSV,Gen Hoshino,Comedy,Comedy,73,230666,False,0.676,0.461,1,-6.746,0,0.143,0.0322,1.01e-06,0.358,0.715,87.917,4,acoustic\",\n",
    "    \"1,4qPNDBW1i3p13qLCt0Ki3A,Ben Woodward,Ghost (Acoustic),Ghost - Acoustic,55,149610,False,0.42,0.166,1,-17.235,1,0.0763,0.924,5.56e-06,0.101,0.267,77.489,4,acoustic\",\n",
    "    \"2,1iJBSr7s7jYXzM8EGcbK5b,Ingrid Michaelson;ZAYN,To Begin Again,To Begin Again,57,210826,False,0.438,0.359,0,-9.734,1,0.0557,0.21,0.0,0.117,0.12,76.332,4,acoustic\",\n",
    "    \"13,0X9MxHR1rTkEHDjp95F2OO,Anna Hamilton,Bad Liar,Bad Liar,62,248448,False,0.691,0.234,3,-6.441,1,0.0285,0.777,0.0,0.12,0.209,87.103,4,acoustic\",\n",
    "    \"10,4mzP5mHkRvGxdhdGdAH7EJ,Zack Tabudlo,Episode,Give Me Your Forever,74,244800,False,0.627,0.363,8,-8.127,1,0.0291,0.279,0.0,0.0928,0.301,99.905,4,acoustic\",\n",
    "    \"9,7k9GuJYLp2AzqokyEdwEw2,Ross Copperman,Hunger,Hunger,56,205594,False,0.442,0.632,1,-6.77,1,0.0295,0.426,0.00419,0.0735,0.196,78.899,4,acoustic\",\n",
    "    \"42,0e5PAxSyZ5DWWVqKANHETz,Brandi Carlile;Lucius,Country Car Hits,You and Me on the Rock,0,230098,False,0.568,0.686,1,-6.635,1,0.033,0.15,1.81e-06,0.0881,0.725,172.075,4,acoustic\",\n",
    "    \"4014,5VYBergVrUDcb8QyEg70cF,Cigarettes After Sex,Affection,Keep on Loving You,65,233010,False,0.456,0.364,2,-9.336,0,0.0252,0.533,0.96,0.111,0.116,73.457,4,ambient\",\n",
    "    \"2416,40lKptao1hxVqA7fd1OOGp,Chris Tomlin,And If Our God Is For Us...,Our God,63,285160,False,0.509,0.778,11,-3.608,1,0.0295,0.00998,0.0,0.19,0.216,105.066,4,alt-rock\",\n",
    "    \"1362,4n6CwGRWj7dRtDqmQCX4Pz,Jorge Drexler,Silencio,Silencio,21,207986,False,0.887,0.568,4,-10.146,0,0.194,0.263,0.00285,0.0951,0.127,127.923,4,afrobeat\",\n",
    "]\n",
    "\n",
    "track_data = [\"0,5SuOikwiRyPMVoIQDJUgSV,Gen Hoshino,Comedy,Comedy,73,230666,False,0.676,0.461,1,-6.746,0,0.143,0.0322,1.01e-06,0.358,0.715,87.917,4,acoustic\"]\n",
    "\n",
    "# parse the track\n",
    "input_data = parse_multiple_tracks_data(track_data)"
   ],
   "id": "1cf082e9923dd30e",
   "outputs": [],
   "execution_count": 84
  },
  {
   "metadata": {
    "ExecuteTime": {
     "end_time": "2025-01-06T15:41:41.675523Z",
     "start_time": "2025-01-06T15:41:41.672441Z"
    }
   },
   "cell_type": "code",
   "source": "input_data",
   "id": "43e5125d8ea5f11f",
   "outputs": [
    {
     "data": {
      "text/plain": [
       "[{'track_id': '5SuOikwiRyPMVoIQDJUgSV',\n",
       "  'artists': 'Gen Hoshino',\n",
       "  'album_name': 'Comedy',\n",
       "  'track_name': 'Comedy',\n",
       "  'popularity': 73,\n",
       "  'duration_ms': 230666,\n",
       "  'explicit': False,\n",
       "  'danceability': 0.676,\n",
       "  'energy': 0.461,\n",
       "  'key': 1,\n",
       "  'loudness': -6.746,\n",
       "  'mode': 0,\n",
       "  'speechiness': 0.143,\n",
       "  'acousticness': 0.0322,\n",
       "  'instrumentalness': 1.01e-06,\n",
       "  'liveness': 0.358,\n",
       "  'valence': 0.715,\n",
       "  'tempo': 87.917,\n",
       "  'time_signature': 4,\n",
       "  'track_genre': 'acoustic'}]"
      ]
     },
     "execution_count": 85,
     "metadata": {},
     "output_type": "execute_result"
    }
   ],
   "execution_count": 85
  },
  {
   "metadata": {
    "ExecuteTime": {
     "end_time": "2025-01-06T15:41:44.037553Z",
     "start_time": "2025-01-06T15:41:44.034330Z"
    }
   },
   "cell_type": "code",
   "source": [
    "# Create a DataFrame\n",
    "X = pd.DataFrame(input_data)"
   ],
   "id": "8b378c824ea970d3",
   "outputs": [],
   "execution_count": 86
  },
  {
   "metadata": {
    "ExecuteTime": {
     "end_time": "2025-01-06T15:41:46.063654Z",
     "start_time": "2025-01-06T15:41:46.053678Z"
    }
   },
   "cell_type": "code",
   "source": "X",
   "id": "6db6e1a15ae60400",
   "outputs": [
    {
     "data": {
      "text/plain": [
       "                 track_id      artists album_name track_name  popularity  \\\n",
       "0  5SuOikwiRyPMVoIQDJUgSV  Gen Hoshino     Comedy     Comedy          73   \n",
       "\n",
       "   duration_ms  explicit  danceability  energy  key  loudness  mode  \\\n",
       "0       230666     False         0.676   0.461    1    -6.746     0   \n",
       "\n",
       "   speechiness  acousticness  instrumentalness  liveness  valence   tempo  \\\n",
       "0        0.143        0.0322          0.000001     0.358    0.715  87.917   \n",
       "\n",
       "   time_signature track_genre  \n",
       "0               4    acoustic  "
      ],
      "text/html": [
       "<div>\n",
       "<style scoped>\n",
       "    .dataframe tbody tr th:only-of-type {\n",
       "        vertical-align: middle;\n",
       "    }\n",
       "\n",
       "    .dataframe tbody tr th {\n",
       "        vertical-align: top;\n",
       "    }\n",
       "\n",
       "    .dataframe thead th {\n",
       "        text-align: right;\n",
       "    }\n",
       "</style>\n",
       "<table border=\"1\" class=\"dataframe\">\n",
       "  <thead>\n",
       "    <tr style=\"text-align: right;\">\n",
       "      <th></th>\n",
       "      <th>track_id</th>\n",
       "      <th>artists</th>\n",
       "      <th>album_name</th>\n",
       "      <th>track_name</th>\n",
       "      <th>popularity</th>\n",
       "      <th>duration_ms</th>\n",
       "      <th>explicit</th>\n",
       "      <th>danceability</th>\n",
       "      <th>energy</th>\n",
       "      <th>key</th>\n",
       "      <th>loudness</th>\n",
       "      <th>mode</th>\n",
       "      <th>speechiness</th>\n",
       "      <th>acousticness</th>\n",
       "      <th>instrumentalness</th>\n",
       "      <th>liveness</th>\n",
       "      <th>valence</th>\n",
       "      <th>tempo</th>\n",
       "      <th>time_signature</th>\n",
       "      <th>track_genre</th>\n",
       "    </tr>\n",
       "  </thead>\n",
       "  <tbody>\n",
       "    <tr>\n",
       "      <th>0</th>\n",
       "      <td>5SuOikwiRyPMVoIQDJUgSV</td>\n",
       "      <td>Gen Hoshino</td>\n",
       "      <td>Comedy</td>\n",
       "      <td>Comedy</td>\n",
       "      <td>73</td>\n",
       "      <td>230666</td>\n",
       "      <td>False</td>\n",
       "      <td>0.676</td>\n",
       "      <td>0.461</td>\n",
       "      <td>1</td>\n",
       "      <td>-6.746</td>\n",
       "      <td>0</td>\n",
       "      <td>0.143</td>\n",
       "      <td>0.0322</td>\n",
       "      <td>0.000001</td>\n",
       "      <td>0.358</td>\n",
       "      <td>0.715</td>\n",
       "      <td>87.917</td>\n",
       "      <td>4</td>\n",
       "      <td>acoustic</td>\n",
       "    </tr>\n",
       "  </tbody>\n",
       "</table>\n",
       "</div>"
      ]
     },
     "execution_count": 87,
     "metadata": {},
     "output_type": "execute_result"
    }
   ],
   "execution_count": 87
  },
  {
   "metadata": {
    "ExecuteTime": {
     "end_time": "2025-01-06T15:41:48.031180Z",
     "start_time": "2025-01-06T15:41:48.025321Z"
    }
   },
   "cell_type": "code",
   "source": [
    "# Initialize a LabelEncoder for the 'track_genre' column\n",
    "label_encoder = LabelEncoder()\n",
    "\n",
    "# Encode the 'track_genre' column and add it as a new column 'track_genre_encoded'\n",
    "X.loc[:, 'track_genre_encoded'] = label_encoder.fit_transform(X['track_genre'])\n",
    "\n",
    "# List of columns that are not useful for processing and training\n",
    "unexploitable_columns = ['track_id', 'artists', 'album_name', 'track_name', 'track_genre']\n",
    "\n",
    "# DataFrame containing only the unexploitable columns\n",
    "trash = X[unexploitable_columns]\n",
    "\n",
    "# DataFrame without the unexploitable columns\n",
    "X = X.drop(columns=unexploitable_columns)"
   ],
   "id": "c5dcc66d4eeee5f2",
   "outputs": [],
   "execution_count": 88
  },
  {
   "metadata": {
    "ExecuteTime": {
     "end_time": "2025-01-06T15:41:49.777433Z",
     "start_time": "2025-01-06T15:41:49.767883Z"
    }
   },
   "cell_type": "code",
   "source": [
    "scaler = StandardScaler()\n",
    "scaled_features = scaler.fit_transform(X.drop(columns=['track_genre_encoded']))\n",
    "\n",
    "# Create a dataframe with the scaled features\n",
    "df_std_scaler = pd.DataFrame(scaled_features, columns=X.columns[:-1])  # Les colonnes sans la target\n",
    "\n",
    "# Add the target column\n",
    "df_std_scaler['track_genre_encoded'] = X['track_genre_encoded']\n",
    "\n",
    "# drop null values\n",
    "df_std_scaler = df_std_scaler.dropna()\n",
    "\n",
    "# UMAP for dimensionality reduction\n",
    "umap_reducer = umap.UMAP(n_components=6)\n",
    "df_umap = umap_reducer.fit_transform(df_std_scaler)\n",
    "\n",
    "# Create a DataFrame\n",
    "df_umap = pd.DataFrame(df_umap, columns=['UMAP1', 'UMAP2', 'UMAP3', 'UMAP4', 'UMAP5', 'UMAP6'])\n",
    "\n",
    "# Concatenate with the target\n",
    "df_umap = pd.concat([df_umap, X['track_genre_encoded']], axis=1)\n",
    "\n",
    "# Drop null values\n",
    "df_umap = df_umap.dropna()"
   ],
   "id": "b6e400fc65c0496c",
   "outputs": [],
   "execution_count": 89
  },
  {
   "metadata": {
    "ExecuteTime": {
     "end_time": "2025-01-06T15:41:51.941144Z",
     "start_time": "2025-01-06T15:41:51.935527Z"
    }
   },
   "cell_type": "code",
   "source": "df_umap",
   "id": "6a1e049f1aadc3e7",
   "outputs": [
    {
     "data": {
      "text/plain": [
       "   UMAP1  UMAP2  UMAP3  UMAP4  UMAP5  UMAP6  track_genre_encoded\n",
       "0    0.0    0.0    0.0    0.0    0.0    0.0                    0"
      ],
      "text/html": [
       "<div>\n",
       "<style scoped>\n",
       "    .dataframe tbody tr th:only-of-type {\n",
       "        vertical-align: middle;\n",
       "    }\n",
       "\n",
       "    .dataframe tbody tr th {\n",
       "        vertical-align: top;\n",
       "    }\n",
       "\n",
       "    .dataframe thead th {\n",
       "        text-align: right;\n",
       "    }\n",
       "</style>\n",
       "<table border=\"1\" class=\"dataframe\">\n",
       "  <thead>\n",
       "    <tr style=\"text-align: right;\">\n",
       "      <th></th>\n",
       "      <th>UMAP1</th>\n",
       "      <th>UMAP2</th>\n",
       "      <th>UMAP3</th>\n",
       "      <th>UMAP4</th>\n",
       "      <th>UMAP5</th>\n",
       "      <th>UMAP6</th>\n",
       "      <th>track_genre_encoded</th>\n",
       "    </tr>\n",
       "  </thead>\n",
       "  <tbody>\n",
       "    <tr>\n",
       "      <th>0</th>\n",
       "      <td>0.0</td>\n",
       "      <td>0.0</td>\n",
       "      <td>0.0</td>\n",
       "      <td>0.0</td>\n",
       "      <td>0.0</td>\n",
       "      <td>0.0</td>\n",
       "      <td>0</td>\n",
       "    </tr>\n",
       "  </tbody>\n",
       "</table>\n",
       "</div>"
      ]
     },
     "execution_count": 90,
     "metadata": {},
     "output_type": "execute_result"
    }
   ],
   "execution_count": 90
  },
  {
   "metadata": {
    "ExecuteTime": {
     "end_time": "2025-01-06T15:41:57.326274Z",
     "start_time": "2025-01-06T15:41:57.319417Z"
    }
   },
   "cell_type": "code",
   "source": [
    "# Predict\n",
    "prediction = model.predict(df_umap.drop(columns=[\"track_genre_encoded\"]))"
   ],
   "id": "7791bd195e63d7b8",
   "outputs": [],
   "execution_count": 91
  },
  {
   "metadata": {
    "ExecuteTime": {
     "end_time": "2025-01-06T15:41:59.269745Z",
     "start_time": "2025-01-06T15:41:59.265944Z"
    }
   },
   "cell_type": "code",
   "source": "prediction",
   "id": "4f7f9ce0c81621a4",
   "outputs": [
    {
     "data": {
      "text/plain": [
       "array([97.])"
      ]
     },
     "execution_count": 92,
     "metadata": {},
     "output_type": "execute_result"
    }
   ],
   "execution_count": 92
  },
  {
   "metadata": {},
   "cell_type": "code",
   "outputs": [],
   "execution_count": null,
   "source": "",
   "id": "72dce5d031069fcc"
  },
  {
   "metadata": {},
   "cell_type": "code",
   "outputs": [],
   "execution_count": null,
   "source": "",
   "id": "545ba13b8c245c7b"
  }
 ],
 "metadata": {
  "kernelspec": {
   "display_name": "Python 3",
   "language": "python",
   "name": "python3"
  },
  "language_info": {
   "codemirror_mode": {
    "name": "ipython",
    "version": 2
   },
   "file_extension": ".py",
   "mimetype": "text/x-python",
   "name": "python",
   "nbconvert_exporter": "python",
   "pygments_lexer": "ipython2",
   "version": "2.7.6"
  }
 },
 "nbformat": 4,
 "nbformat_minor": 5
}

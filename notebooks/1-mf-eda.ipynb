{
 "cells": [
  {
   "metadata": {},
   "cell_type": "markdown",
   "source": [
    "# EDA\n",
    "\n",
    "### Source of data\n",
    "- [Kaggle Dataset](https://www.kaggle.com/datasets/maharshipandya/-spotify-tracks-dataset?resource=download)\n",
    "\n",
    "# Column Description\n",
    "\n",
    "### `track_id`\n",
    "The Spotify ID for the track.\n",
    "\n",
    "### `artists`\n",
    "The artists' names who performed the track. If there is more than one artist, they are separated by a `;`.\n",
    "\n",
    "### `album_name`\n",
    "The album name in which the track appears.\n",
    "\n",
    "### `track_name`\n",
    "Name of the track.\n",
    "\n",
    "### `popularity`\n",
    "The popularity of a track is a value between 0 and 100, with 100 being the most popular.  \n",
    "- The popularity is calculated by an algorithm and is based, in the most part, on the total number of plays the track has had and how recent those plays are.  \n",
    "- Generally speaking, songs that are being played a lot now will have a higher popularity than songs that were played a lot in the past.  \n",
    "- Duplicate tracks (e.g., the same track from a single and an album) are rated independently.  \n",
    "- Artist and album popularity is derived mathematically from track popularity.\n",
    "\n",
    "### `duration_ms`\n",
    "The track length in milliseconds.\n",
    "\n",
    "### `explicit`\n",
    "Whether or not the track has explicit lyrics:  \n",
    "- `true` = yes, it does.  \n",
    "- `false` = no, it does not OR unknown.\n",
    "\n",
    "### `danceability`\n",
    "Describes how suitable a track is for dancing, based on a combination of musical elements including tempo, rhythm stability, beat strength, and overall regularity.  \n",
    "- A value of 0.0 is least danceable.  \n",
    "- A value of 1.0 is most danceable.\n",
    "\n",
    "### `energy`\n",
    "A measure from 0.0 to 1.0 representing a perceptual measure of intensity and activity.  \n",
    "- Energetic tracks feel fast, loud, and noisy.  \n",
    "- For example, death metal has high energy, while a Bach prelude scores low on the scale.\n",
    "\n",
    "### `key`\n",
    "Represents the musical key of the track, encoded as an integer:  \n",
    "- Values range from `0` (C) to `11` (B) based on the chromatic scale:  \n",
    "  - `0` = C (Do), `1` = C♯/D♭, `2` = D (Ré), ..., `11` = B (Si).  \n",
    "- `-1` indicates no key detected.  \n",
    "\n",
    "This feature helps understand the harmonic structure and can be used for tasks like creating smooth transitions between tracks or analyzing musical patterns.\n",
    "\n",
    "### `loudness`\n",
    "The overall loudness of a track in decibels (dB).\n",
    "\n",
    "### `mode`\n",
    "Indicates the mode of the track:  \n",
    "- `1` = Major (associated with a happy or bright mood).  \n",
    "- `0` = Minor (associated with a sad or dark mood).  \n",
    "\n",
    "This feature helps to understand the emotional tone of the track and analyze musical patterns.\n",
    "\n",
    "### `speechiness`\n",
    "Detects the presence of spoken words in a track.  \n",
    "- The more exclusively speech-like the recording (e.g., talk show, audio book, poetry), the closer to 1.0 the attribute value.  \n",
    "- Values above `0.66` describe tracks that are probably made entirely of spoken words.  \n",
    "- Values between `0.33` and `0.66` describe tracks that may contain both music and speech, either in sections or layered, including such cases as rap music.  \n",
    "- Values below `0.33` most likely represent music and other non-speech-like tracks.\n",
    "\n",
    "### `acousticness`\n",
    "A confidence measure from 0.0 to 1.0 of whether the track is acoustic.  \n",
    "- `1.0` represents high confidence the track is acoustic.\n",
    "\n",
    "### `instrumentalness`\n",
    "Predicts whether a track contains no vocals:  \n",
    "- \"Ooh\" and \"aah\" sounds are treated as instrumental in this context.  \n",
    "- Rap or spoken word tracks are clearly \"vocal.\"  \n",
    "- The closer the instrumentalness value is to `1.0`, the greater the likelihood the track contains no vocal content.\n",
    "\n",
    "### `liveness`\n",
    "Detects the presence of an audience in the recording.  \n",
    "- Higher liveness values represent an increased probability that the track was performed live.  \n",
    "- A value above `0.8` provides strong likelihood that the track is live.\n",
    "\n",
    "### `valence`\n",
    "A measure from 0.0 to 1.0 describing the musical positiveness conveyed by a track.  \n",
    "- Tracks with high valence sound more positive (e.g., happy, cheerful, euphoric).  \n",
    "- Tracks with low valence sound more negative (e.g., sad, depressed, angry).\n",
    "\n",
    "### `tempo`\n",
    "The overall estimated tempo of a track in beats per minute (BPM).  \n",
    "- In musical terminology, tempo is the speed or pace of a given piece and derives directly from the average beat duration.\n",
    "\n",
    "### `time_signature`\n",
    "An estimated time signature:  \n",
    "- The time signature (meter) is a notational convention to specify how many beats are in each bar (or measure).  \n",
    "- The time signature ranges from `3` to `7`, indicating time signatures of 3/4 to 7/4.\n",
    "\n",
    "### `track_genre`\n",
    "The genre in which the track belongs.\n"
   ],
   "id": "678dd44403436540"
  },
  {
   "metadata": {},
   "cell_type": "code",
   "source": [
    "import pandas as pd\n",
    "from mlflow.pyfunc.stdin_server import params\n",
    "\n",
    "dataset_path = \"../data/raw/dataset.csv\"\n",
    "# Load data\n",
    "df = pd.read_csv(dataset_path, low_memory=False)"
   ],
   "id": "d6b6bab28867b36b",
   "outputs": [],
   "execution_count": null
  },
  {
   "metadata": {},
   "cell_type": "code",
   "source": [
    "# Shape\n",
    "df.shape"
   ],
   "id": "dda76bb9ef476bfc",
   "outputs": [],
   "execution_count": null
  },
  {
   "metadata": {},
   "cell_type": "code",
   "source": [
    "# Describe\n",
    "df.describe()"
   ],
   "id": "fcbabd04773765b3",
   "outputs": [],
   "execution_count": null
  },
  {
   "metadata": {},
   "cell_type": "code",
   "source": [
    "# Columns names\n",
    "df.columns"
   ],
   "id": "8a1433dcf05bce89",
   "outputs": [],
   "execution_count": null
  },
  {
   "metadata": {},
   "cell_type": "code",
   "source": [
    "# Numerical columns\n",
    "df.select_dtypes(include=['int64', 'float64']).columns"
   ],
   "id": "8c28f72791e4819e",
   "outputs": [],
   "execution_count": null
  },
  {
   "metadata": {},
   "cell_type": "code",
   "source": [
    "# Store names of numerical columns\n",
    "numerical_columns = df.select_dtypes(include=['int64', 'float64']).columns"
   ],
   "id": "b6033782fa3baa8e",
   "outputs": [],
   "execution_count": null
  },
  {
   "metadata": {},
   "cell_type": "code",
   "source": [
    "# Categorical columns\n",
    "df.select_dtypes(include=['object']).columns"
   ],
   "id": "332191a600011f00",
   "outputs": [],
   "execution_count": null
  },
  {
   "metadata": {},
   "cell_type": "code",
   "source": [
    "# Store names of categorical columns\n",
    "categorical_columns = df.select_dtypes(include=['object']).columns"
   ],
   "id": "5adb29afe2ec6648",
   "outputs": [],
   "execution_count": null
  },
  {
   "metadata": {},
   "cell_type": "code",
   "source": "df[numerical_columns].head()",
   "id": "78ef51ea75f7ba7b",
   "outputs": [],
   "execution_count": null
  },
  {
   "metadata": {},
   "cell_type": "code",
   "source": "df[categorical_columns].head()",
   "id": "3fa74d3005d363ea",
   "outputs": [],
   "execution_count": null
  },
  {
   "metadata": {},
   "cell_type": "code",
   "source": [
    "# Check for missing values\n",
    "df.isnull().sum()"
   ],
   "id": "850c15b5d3ef37e2",
   "outputs": [],
   "execution_count": null
  },
  {
   "metadata": {},
   "cell_type": "code",
   "source": [
    "# Show the percentage of missing values\n",
    "df.isnull().sum() / df.shape[0] * 100"
   ],
   "id": "9337930b89d86411",
   "outputs": [],
   "execution_count": null
  },
  {
   "metadata": {},
   "cell_type": "code",
   "source": [
    "# Drop missing values\n",
    "df.dropna(inplace=True)"
   ],
   "id": "507661b38b196ee5",
   "outputs": [],
   "execution_count": null
  },
  {
   "metadata": {},
   "cell_type": "code",
   "source": [
    "# missing values\n",
    "df.isnull().sum()"
   ],
   "id": "225e658e5f85a17a",
   "outputs": [],
   "execution_count": null
  },
  {
   "metadata": {},
   "cell_type": "markdown",
   "source": "## Data Visualization",
   "id": "763e3eff4a24d3c5"
  },
  {
   "metadata": {},
   "cell_type": "code",
   "source": [
    "import seaborn as sns\n",
    "from matplotlib import pyplot as plt"
   ],
   "id": "57fe9a832e5bd9a5",
   "outputs": [],
   "execution_count": null
  },
  {
   "metadata": {},
   "cell_type": "code",
   "source": [
    "# Bar plot for track_genre\n",
    "plt.figure(figsize=(50, 6))\n",
    "sns.countplot(x='track_genre', data=df)\n",
    "plt.title('Track Genre Distribution')\n",
    "plt.xticks(rotation=90)\n",
    "plt.show()"
   ],
   "id": "5891bb5002c725f3",
   "outputs": [],
   "execution_count": null
  },
  {
   "metadata": {},
   "cell_type": "markdown",
   "source": "# Extremely balanced dataset",
   "id": "bf35bdfc1c0ddbcd"
  },
  {
   "metadata": {},
   "cell_type": "code",
   "source": [
    "# Which genre is the most popular? Sort by popularity and show the top 10\n",
    "df.groupby('track_genre')['popularity'].mean().sort_values(ascending=False).head(10)"
   ],
   "id": "4d04ae0fe6d3a6f9",
   "outputs": [],
   "execution_count": null
  },
  {
   "metadata": {},
   "cell_type": "code",
   "source": [
    "# Which genre is the least popular? Sort by popularity and show the top 10\n",
    "df.groupby('track_genre')['popularity'].mean().sort_values(ascending=True).head(10)"
   ],
   "id": "d6d94d2607e7e362",
   "outputs": [],
   "execution_count": null
  },
  {
   "metadata": {},
   "cell_type": "code",
   "source": [
    "# Subplot\n",
    "fig, ax = plt.subplots(1, 2, figsize=(20, 6))\n",
    "\n",
    "# Most popular genres\n",
    "df.groupby('track_genre')['popularity'].mean().sort_values(ascending=False).head(10).plot(kind='bar', ax=ax[0])\n",
    "ax[0].set_title('Top 10 Most Popular Genres')\n",
    "ax[0].set_ylabel('Popularity')\n",
    "ax[0].set_xlabel('Genre')\n",
    "ax[0].tick_params(axis='x', rotation=90)\n",
    "\n",
    "# Least popular genres\n",
    "df.groupby('track_genre')['popularity'].mean().sort_values(ascending=True).head(10).plot(kind='bar', ax=ax[1])\n",
    "ax[1].set_title('Top 10 Least Popular Genres')\n",
    "ax[1].set_ylabel('Popularity')\n",
    "ax[1].set_xlabel('Genre')\n",
    "ax[1].tick_params(axis='x', rotation=90)\n",
    "\n",
    "plt.show()"
   ],
   "id": "4b9c654f8b1435d1",
   "outputs": [],
   "execution_count": null
  },
  {
   "metadata": {},
   "cell_type": "markdown",
   "source": "## Correlation matrix",
   "id": "e66d5a55601424e9"
  },
  {
   "metadata": {},
   "cell_type": "code",
   "source": [
    "columns = ['popularity', 'duration_ms', 'danceability', 'energy', 'loudness', \n",
    "           'speechiness', 'acousticness', 'instrumentalness', 'liveness', 'valence', 'tempo']"
   ],
   "id": "1028c9dbb81453e3",
   "outputs": [],
   "execution_count": null
  },
  {
   "metadata": {},
   "cell_type": "code",
   "source": [
    "from sklearn.preprocessing import StandardScaler\n",
    "\n",
    "scaler = StandardScaler()\n",
    "df_scaled = pd.DataFrame(scaler.fit_transform(df[columns]), columns=columns)"
   ],
   "id": "41afbfa4a8659a8c",
   "outputs": [],
   "execution_count": null
  },
  {
   "metadata": {},
   "cell_type": "code",
   "source": [
    "# Describe\n",
    "df_scaled.describe()"
   ],
   "id": "c48d86e9cf2f4cb2",
   "outputs": [],
   "execution_count": null
  },
  {
   "metadata": {},
   "cell_type": "code",
   "source": "correlation_matrix = df_scaled.corr()",
   "id": "bacc01d544632e8f",
   "outputs": [],
   "execution_count": null
  },
  {
   "metadata": {},
   "cell_type": "code",
   "source": [
    "# Heatmap\n",
    "plt.figure(figsize=(12, 8))\n",
    "sns.heatmap(correlation_matrix, annot=True, fmt=\".2f\", cmap=\"coolwarm\", linewidths=0.5)\n",
    "plt.title(\"Correlation Matrix\")\n",
    "plt.show()"
   ],
   "id": "eac3aeefc216cc46",
   "outputs": [],
   "execution_count": null
  },
  {
   "metadata": {},
   "cell_type": "code",
   "source": [
    "# Filter the correlation values\n",
    "correlation_values = correlation_matrix.unstack().sort_values(ascending=False)\n",
    "correlation_values = correlation_values[correlation_values != 1]  # Remove self-correlations\n",
    "correlated_features = correlation_values[(correlation_values >= 0.40) | (correlation_values <= -0.40)]"
   ],
   "id": "bc07d9d62df02484",
   "outputs": [],
   "execution_count": null
  },
  {
   "metadata": {},
   "cell_type": "code",
   "source": "correlated_features",
   "id": "b8d8d4ea9ccb4d8f",
   "outputs": [],
   "execution_count": null
  },
  {
   "metadata": {},
   "cell_type": "code",
   "source": [
    "# Scatter plot\n",
    "plt.figure(figsize=(20, 6))\n",
    "sns.scatterplot(x='energy', y='loudness', data=df_scaled)\n",
    "plt.title('Energy vs Loudness')\n",
    "plt.show()"
   ],
   "id": "bc9fb5ce62caf982",
   "outputs": [],
   "execution_count": null
  },
  {
   "metadata": {},
   "cell_type": "code",
   "source": "# Important features : ['danceability', 'energy', 'loudness', 'instrumentalness', 'valence']",
   "id": "ba33a472c8f4376f",
   "outputs": [],
   "execution_count": null
  },
  {
   "metadata": {},
   "cell_type": "code",
   "source": [
    "# Scatter plot them\n",
    "plt.figure(figsize=(20, 6))\n",
    "sns.scatterplot(x='danceability', y='energy', data=df_scaled)\n",
    "plt.title('Danceability vs Energy')\n",
    "plt.show()"
   ],
   "id": "2ab5c48db82d9be7",
   "outputs": [],
   "execution_count": null
  },
  {
   "metadata": {},
   "cell_type": "code",
   "source": [
    "import plotly.express as px\n",
    "\n",
    "# Select the important features\n",
    "important_features = ['danceability', 'energy', 'loudness', 'instrumentalness', 'valence']\n",
    "\n",
    "# Create a pairplot\n",
    "fig = px.scatter_matrix(df_scaled, dimensions=important_features, title='Pairplot of Important Features')\n",
    "fig.update_layout(width=1000, height=800)\n",
    "fig.show()"
   ],
   "id": "d998b5e07210e3bd",
   "outputs": [],
   "execution_count": null
  },
  {
   "metadata": {},
   "cell_type": "code",
   "source": [
    "# Min Max Scaler test\n",
    "from sklearn.preprocessing import MinMaxScaler\n",
    "\n",
    "scaler = MinMaxScaler()\n",
    "df_scaled = pd.DataFrame(scaler.fit_transform(df[columns]), columns=columns)"
   ],
   "id": "93571b66f649c5b8",
   "outputs": [],
   "execution_count": null
  },
  {
   "metadata": {},
   "cell_type": "code",
   "source": [
    "# correlation matrix\n",
    "correlation_matrix = df_scaled.corr()"
   ],
   "id": "5e15b14341303784",
   "outputs": [],
   "execution_count": null
  },
  {
   "metadata": {},
   "cell_type": "code",
   "source": [
    "# Plot\n",
    "plt.figure(figsize=(12, 8))\n",
    "sns.heatmap(correlation_matrix, annot=True, fmt=\".2f\", cmap=\"coolwarm\", linewidths=0.5)\n",
    "plt.title(\"Correlation Matrix\")\n",
    "plt.show()"
   ],
   "id": "9c82a0e34532303b",
   "outputs": [],
   "execution_count": null
  },
  {
   "metadata": {},
   "cell_type": "code",
   "source": [
    "import plotly.express as px\n",
    "\n",
    "# Select the important features\n",
    "important_features = ['danceability', 'energy', 'loudness', 'instrumentalness', 'valence']\n",
    "\n",
    "# Create a pairplot\n",
    "fig = px.scatter_matrix(df_scaled, dimensions=important_features, title='Pairplot of Important Features')\n",
    "fig.update_layout(width=1000, height=800)\n",
    "fig.show()"
   ],
   "id": "e260f1781d185af2",
   "outputs": [],
   "execution_count": null
  },
  {
   "metadata": {},
   "cell_type": "code",
   "source": [
    "# Polynomial Features test\n",
    "from sklearn.preprocessing import PolynomialFeatures\n",
    "\n",
    "poly = PolynomialFeatures(degree=2)\n",
    "df_poly = poly.fit_transform(df[columns])\n",
    "df_poly = pd.DataFrame(df_poly, columns=poly.get_feature_names_out(columns))"
   ],
   "id": "2eb06b4353dbeb0",
   "outputs": [],
   "execution_count": null
  },
  {
   "metadata": {},
   "cell_type": "code",
   "source": "df_poly.head()",
   "id": "c15f14b533b510f3",
   "outputs": [],
   "execution_count": null
  },
  {
   "metadata": {},
   "cell_type": "code",
   "source": [
    "# Correlation matrix with plotly\n",
    "correlation_matrix = df_poly.corr()"
   ],
   "id": "59e6dca789f0bc45",
   "outputs": [],
   "execution_count": null
  },
  {
   "metadata": {},
   "cell_type": "code",
   "source": [
    "# Plot it with plotly\n",
    "fig = px.imshow(correlation_matrix, title='Correlation Matrix')\n",
    "fig.update_layout(width=1500, height=1300)\n",
    "fig.show()"
   ],
   "id": "5242c693e92b0ee4",
   "outputs": [],
   "execution_count": null
  },
  {
   "metadata": {},
   "cell_type": "code",
   "source": "corr_matrix = correlation_matrix.abs()",
   "id": "92516cbb531f1fb",
   "outputs": [],
   "execution_count": null
  },
  {
   "metadata": {},
   "cell_type": "code",
   "source": [
    "import numpy as np\n",
    "\n",
    "upper_triangle = corr_matrix.where(np.triu(np.ones(corr_matrix.shape), k=1).astype(np.bool))"
   ],
   "id": "6cfaca7f0ad4efed",
   "outputs": [],
   "execution_count": null
  },
  {
   "metadata": {},
   "cell_type": "code",
   "source": "upper_triangle",
   "id": "b23892e026b25249",
   "outputs": [],
   "execution_count": null
  },
  {
   "metadata": {},
   "cell_type": "code",
   "source": [
    "# Features that have a correlation lower than 0.8, we can drop them\n",
    "to_drop = [column for column in upper_triangle.columns if any(upper_triangle[column] > 0.8)]"
   ],
   "id": "c45f97d302726a75",
   "outputs": [],
   "execution_count": null
  },
  {
   "metadata": {},
   "cell_type": "code",
   "source": [
    "# Drop them\n",
    "df_poly_processed = df_poly.drop(columns=to_drop)"
   ],
   "id": "5186da8e6c01a568",
   "outputs": [],
   "execution_count": null
  },
  {
   "metadata": {},
   "cell_type": "code",
   "source": "df_poly_processed.shape",
   "id": "274c2beaea3fcc8f",
   "outputs": [],
   "execution_count": null
  },
  {
   "metadata": {},
   "cell_type": "code",
   "source": "df_poly_processed.head()",
   "id": "9bea07dbcd90e6f",
   "outputs": [],
   "execution_count": null
  },
  {
   "metadata": {},
   "cell_type": "code",
   "source": [
    "# Corr matrix and plot\n",
    "correlation_matrix = df_poly_processed.corr()"
   ],
   "id": "de3c5dc434a1ea24",
   "outputs": [],
   "execution_count": null
  },
  {
   "metadata": {},
   "cell_type": "code",
   "source": [
    "# Plot\n",
    "fig = px.imshow(correlation_matrix, title='Correlation Matrix')\n",
    "fig.update_layout(width=1500, height=1300)\n",
    "fig.show()"
   ],
   "id": "48c809ed7a834103",
   "outputs": [],
   "execution_count": null
  },
  {
   "metadata": {},
   "cell_type": "code",
   "source": [
    "# PCA test\n",
    "from sklearn.decomposition import PCA\n",
    "\n",
    "pca = PCA(n_components=0.95)\n",
    "df_pca = pca.fit_transform(df_poly_processed)\n",
    "\n",
    "print(f\"Original shape: {df_poly_processed.shape}\")\n",
    "print(f\"Reduced shape: {df_pca.shape}\")"
   ],
   "id": "2185f07c7f96f58b",
   "outputs": [],
   "execution_count": null
  },
  {
   "metadata": {
    "jupyter": {
     "is_executing": true
    }
   },
   "cell_type": "code",
   "source": [
    "# Random Forest Classifier, accuracy score :\n",
    "from sklearn.ensemble import RandomForestClassifier\n",
    "from sklearn.model_selection import train_test_split\n",
    "from sklearn.metrics import accuracy_score\n",
    "\n",
    "X = df_poly_processed\n",
    "y = df['track_genre']\n",
    "\n",
    "X_train, X_test, y_train, y_test = train_test_split(X, y, test_size=0.4, random_state=42)\n",
    "\n",
    "params = {\n",
    "    'n_estimators': 600,\n",
    "    'random_state': 42\n",
    "}\n",
    "\n",
    "clf = RandomForestClassifier(**params)\n",
    "clf.fit(X_train, y_train)\n",
    "y_pred = clf.predict(X_test)\n",
    "\n",
    "accuracy = accuracy_score(y_test, y_pred)"
   ],
   "id": "b3857277f2de2f1a",
   "outputs": [],
   "execution_count": null
  },
  {
   "metadata": {},
   "cell_type": "code",
   "source": "print(f\"Accuracy: {accuracy}\")",
   "id": "b871e130f97f59a",
   "outputs": [],
   "execution_count": null
  },
  {
   "metadata": {},
   "cell_type": "code",
   "source": "",
   "id": "1dd24b0754e6ad44",
   "outputs": [],
   "execution_count": null
  },
  {
   "metadata": {},
   "cell_type": "code",
   "source": "",
   "id": "350b83d4cc6d5fd",
   "outputs": [],
   "execution_count": null
  },
  {
   "metadata": {},
   "cell_type": "code",
   "source": "",
   "id": "7e1611143870d1a3",
   "outputs": [],
   "execution_count": null
  },
  {
   "metadata": {},
   "cell_type": "code",
   "source": "",
   "id": "dbbea515f56e0729",
   "outputs": [],
   "execution_count": null
  }
 ],
 "metadata": {
  "kernelspec": {
   "display_name": "Python 3",
   "language": "python",
   "name": "python3"
  },
  "language_info": {
   "codemirror_mode": {
    "name": "ipython",
    "version": 2
   },
   "file_extension": ".py",
   "mimetype": "text/x-python",
   "name": "python",
   "nbconvert_exporter": "python",
   "pygments_lexer": "ipython2",
   "version": "2.7.6"
  }
 },
 "nbformat": 4,
 "nbformat_minor": 5
}
